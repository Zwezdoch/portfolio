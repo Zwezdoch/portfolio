{
 "cells": [
  {
   "cell_type": "markdown",
   "id": "b8769122",
   "metadata": {},
   "source": [
    "## Проект: вариант 1\n",
    "Представьте, что вы работаете в компании, которая разрабатывает мобильные игры. К вам пришел менеджер с рядом задач по исследованию нескольких аспектов мобильного приложения.\n",
    "### Задача 1\n",
    "Retention – один из самых важных показателей в компании. Ваша задача – написать функцию, которая будет считать retention игроков (по дням от даты регистрации игрока). Данные лежат в папке shared."
   ]
  },
  {
   "cell_type": "code",
   "execution_count": 1,
   "id": "157472f2",
   "metadata": {},
   "outputs": [],
   "source": [
    "import pandas as pd\n",
    "from scipy import stats\n",
    "from scipy.stats import levene\n",
    "import matplotlib.pyplot as plt\n",
    "from scipy.stats import mannwhitneyu"
   ]
  },
  {
   "cell_type": "markdown",
   "id": "63a7d07e",
   "metadata": {},
   "source": [
    "Данные о времени регистрации:"
   ]
  },
  {
   "cell_type": "code",
   "execution_count": 2,
   "id": "2326b102",
   "metadata": {},
   "outputs": [],
   "source": [
    "reg = pd.read_csv('https://getfile.dokpub.com/yandex/get/https://disk.yandex.ru/d/Y5VgKt42xzbBlg', sep = ';')"
   ]
  },
  {
   "cell_type": "markdown",
   "id": "d8809476",
   "metadata": {},
   "source": [
    "Данные о времени захода пользователей в игру:"
   ]
  },
  {
   "cell_type": "code",
   "execution_count": 3,
   "id": "5c221580",
   "metadata": {},
   "outputs": [],
   "source": [
    "auth = pd.read_csv('https://getfile.dokpub.com/yandex/get/https://disk.yandex.ru/d/r5Q2NH2t4bUy6g', sep = ';')"
   ]
  },
  {
   "cell_type": "code",
   "execution_count": 6,
   "id": "152c03e9",
   "metadata": {},
   "outputs": [
    {
     "data": {
      "text/html": [
       "<div>\n",
       "<style scoped>\n",
       "    .dataframe tbody tr th:only-of-type {\n",
       "        vertical-align: middle;\n",
       "    }\n",
       "\n",
       "    .dataframe tbody tr th {\n",
       "        vertical-align: top;\n",
       "    }\n",
       "\n",
       "    .dataframe thead th {\n",
       "        text-align: right;\n",
       "    }\n",
       "</style>\n",
       "<table border=\"1\" class=\"dataframe\">\n",
       "  <thead>\n",
       "    <tr style=\"text-align: right;\">\n",
       "      <th></th>\n",
       "      <th>reg_ts</th>\n",
       "      <th>uid</th>\n",
       "    </tr>\n",
       "  </thead>\n",
       "  <tbody>\n",
       "    <tr>\n",
       "      <th>0</th>\n",
       "      <td>911382223</td>\n",
       "      <td>1</td>\n",
       "    </tr>\n",
       "    <tr>\n",
       "      <th>1</th>\n",
       "      <td>932683089</td>\n",
       "      <td>2</td>\n",
       "    </tr>\n",
       "    <tr>\n",
       "      <th>2</th>\n",
       "      <td>947802447</td>\n",
       "      <td>3</td>\n",
       "    </tr>\n",
       "    <tr>\n",
       "      <th>3</th>\n",
       "      <td>959523541</td>\n",
       "      <td>4</td>\n",
       "    </tr>\n",
       "    <tr>\n",
       "      <th>4</th>\n",
       "      <td>969103313</td>\n",
       "      <td>5</td>\n",
       "    </tr>\n",
       "  </tbody>\n",
       "</table>\n",
       "</div>"
      ],
      "text/plain": [
       "      reg_ts  uid\n",
       "0  911382223    1\n",
       "1  932683089    2\n",
       "2  947802447    3\n",
       "3  959523541    4\n",
       "4  969103313    5"
      ]
     },
     "execution_count": 6,
     "metadata": {},
     "output_type": "execute_result"
    }
   ],
   "source": [
    "reg.head()"
   ]
  },
  {
   "cell_type": "code",
   "execution_count": 7,
   "id": "8f099d4e",
   "metadata": {},
   "outputs": [
    {
     "data": {
      "text/html": [
       "<div>\n",
       "<style scoped>\n",
       "    .dataframe tbody tr th:only-of-type {\n",
       "        vertical-align: middle;\n",
       "    }\n",
       "\n",
       "    .dataframe tbody tr th {\n",
       "        vertical-align: top;\n",
       "    }\n",
       "\n",
       "    .dataframe thead th {\n",
       "        text-align: right;\n",
       "    }\n",
       "</style>\n",
       "<table border=\"1\" class=\"dataframe\">\n",
       "  <thead>\n",
       "    <tr style=\"text-align: right;\">\n",
       "      <th></th>\n",
       "      <th>auth_ts</th>\n",
       "      <th>uid</th>\n",
       "    </tr>\n",
       "  </thead>\n",
       "  <tbody>\n",
       "    <tr>\n",
       "      <th>0</th>\n",
       "      <td>911382223</td>\n",
       "      <td>1</td>\n",
       "    </tr>\n",
       "    <tr>\n",
       "      <th>1</th>\n",
       "      <td>932683089</td>\n",
       "      <td>2</td>\n",
       "    </tr>\n",
       "    <tr>\n",
       "      <th>2</th>\n",
       "      <td>932921206</td>\n",
       "      <td>2</td>\n",
       "    </tr>\n",
       "    <tr>\n",
       "      <th>3</th>\n",
       "      <td>933393015</td>\n",
       "      <td>2</td>\n",
       "    </tr>\n",
       "    <tr>\n",
       "      <th>4</th>\n",
       "      <td>933875379</td>\n",
       "      <td>2</td>\n",
       "    </tr>\n",
       "  </tbody>\n",
       "</table>\n",
       "</div>"
      ],
      "text/plain": [
       "     auth_ts  uid\n",
       "0  911382223    1\n",
       "1  932683089    2\n",
       "2  932921206    2\n",
       "3  933393015    2\n",
       "4  933875379    2"
      ]
     },
     "execution_count": 7,
     "metadata": {},
     "output_type": "execute_result"
    }
   ],
   "source": [
    "auth.head()"
   ]
  },
  {
   "cell_type": "code",
   "execution_count": 9,
   "id": "2ee5320d",
   "metadata": {},
   "outputs": [],
   "source": [
    "df=reg.merge(auth, how='right', on='uid')"
   ]
  },
  {
   "cell_type": "code",
   "execution_count": 10,
   "id": "256c1566",
   "metadata": {},
   "outputs": [
    {
     "data": {
      "text/html": [
       "<div>\n",
       "<style scoped>\n",
       "    .dataframe tbody tr th:only-of-type {\n",
       "        vertical-align: middle;\n",
       "    }\n",
       "\n",
       "    .dataframe tbody tr th {\n",
       "        vertical-align: top;\n",
       "    }\n",
       "\n",
       "    .dataframe thead th {\n",
       "        text-align: right;\n",
       "    }\n",
       "</style>\n",
       "<table border=\"1\" class=\"dataframe\">\n",
       "  <thead>\n",
       "    <tr style=\"text-align: right;\">\n",
       "      <th></th>\n",
       "      <th>reg_ts</th>\n",
       "      <th>uid</th>\n",
       "      <th>auth_ts</th>\n",
       "    </tr>\n",
       "  </thead>\n",
       "  <tbody>\n",
       "    <tr>\n",
       "      <th>0</th>\n",
       "      <td>911382223</td>\n",
       "      <td>1</td>\n",
       "      <td>911382223</td>\n",
       "    </tr>\n",
       "    <tr>\n",
       "      <th>1</th>\n",
       "      <td>932683089</td>\n",
       "      <td>2</td>\n",
       "      <td>932683089</td>\n",
       "    </tr>\n",
       "    <tr>\n",
       "      <th>2</th>\n",
       "      <td>932683089</td>\n",
       "      <td>2</td>\n",
       "      <td>932921206</td>\n",
       "    </tr>\n",
       "    <tr>\n",
       "      <th>3</th>\n",
       "      <td>932683089</td>\n",
       "      <td>2</td>\n",
       "      <td>933393015</td>\n",
       "    </tr>\n",
       "    <tr>\n",
       "      <th>4</th>\n",
       "      <td>932683089</td>\n",
       "      <td>2</td>\n",
       "      <td>933875379</td>\n",
       "    </tr>\n",
       "  </tbody>\n",
       "</table>\n",
       "</div>"
      ],
      "text/plain": [
       "      reg_ts  uid    auth_ts\n",
       "0  911382223    1  911382223\n",
       "1  932683089    2  932683089\n",
       "2  932683089    2  932921206\n",
       "3  932683089    2  933393015\n",
       "4  932683089    2  933875379"
      ]
     },
     "execution_count": 10,
     "metadata": {},
     "output_type": "execute_result"
    }
   ],
   "source": [
    "df.head()"
   ]
  },
  {
   "cell_type": "code",
   "execution_count": 14,
   "id": "ca2371d6",
   "metadata": {},
   "outputs": [],
   "source": [
    "df['ret_day']=(df.auth_ts - df.reg_ts) // 86400"
   ]
  },
  {
   "cell_type": "code",
   "execution_count": 15,
   "id": "53e53963",
   "metadata": {},
   "outputs": [
    {
     "data": {
      "text/html": [
       "<div>\n",
       "<style scoped>\n",
       "    .dataframe tbody tr th:only-of-type {\n",
       "        vertical-align: middle;\n",
       "    }\n",
       "\n",
       "    .dataframe tbody tr th {\n",
       "        vertical-align: top;\n",
       "    }\n",
       "\n",
       "    .dataframe thead th {\n",
       "        text-align: right;\n",
       "    }\n",
       "</style>\n",
       "<table border=\"1\" class=\"dataframe\">\n",
       "  <thead>\n",
       "    <tr style=\"text-align: right;\">\n",
       "      <th></th>\n",
       "      <th>reg_ts</th>\n",
       "      <th>uid</th>\n",
       "      <th>auth_ts</th>\n",
       "      <th>ret_day</th>\n",
       "    </tr>\n",
       "  </thead>\n",
       "  <tbody>\n",
       "    <tr>\n",
       "      <th>0</th>\n",
       "      <td>911382223</td>\n",
       "      <td>1</td>\n",
       "      <td>911382223</td>\n",
       "      <td>0</td>\n",
       "    </tr>\n",
       "    <tr>\n",
       "      <th>1</th>\n",
       "      <td>932683089</td>\n",
       "      <td>2</td>\n",
       "      <td>932683089</td>\n",
       "      <td>0</td>\n",
       "    </tr>\n",
       "    <tr>\n",
       "      <th>2</th>\n",
       "      <td>932683089</td>\n",
       "      <td>2</td>\n",
       "      <td>932921206</td>\n",
       "      <td>2</td>\n",
       "    </tr>\n",
       "    <tr>\n",
       "      <th>3</th>\n",
       "      <td>932683089</td>\n",
       "      <td>2</td>\n",
       "      <td>933393015</td>\n",
       "      <td>8</td>\n",
       "    </tr>\n",
       "    <tr>\n",
       "      <th>4</th>\n",
       "      <td>932683089</td>\n",
       "      <td>2</td>\n",
       "      <td>933875379</td>\n",
       "      <td>13</td>\n",
       "    </tr>\n",
       "  </tbody>\n",
       "</table>\n",
       "</div>"
      ],
      "text/plain": [
       "      reg_ts  uid    auth_ts  ret_day\n",
       "0  911382223    1  911382223        0\n",
       "1  932683089    2  932683089        0\n",
       "2  932683089    2  932921206        2\n",
       "3  932683089    2  933393015        8\n",
       "4  932683089    2  933875379       13"
      ]
     },
     "execution_count": 15,
     "metadata": {},
     "output_type": "execute_result"
    }
   ],
   "source": [
    "df.head()"
   ]
  },
  {
   "cell_type": "markdown",
   "id": "d51a968f",
   "metadata": {},
   "source": [
    "Соберем функцию:"
   ]
  },
  {
   "cell_type": "code",
   "execution_count": 2,
   "id": "e510e34d",
   "metadata": {},
   "outputs": [],
   "source": [
    "def reten(ret_d):\n",
    "    reg = pd.read_csv('https://getfile.dokpub.com/yandex/get/https://disk.yandex.ru/d/Y5VgKt42xzbBlg', sep = ';')\n",
    "    auth = pd.read_csv('https://getfile.dokpub.com/yandex/get/https://disk.yandex.ru/d/r5Q2NH2t4bUy6g', sep = ';')\n",
    "    df=reg.merge(auth, how='right', on='uid')\n",
    "    df['ret_day']=(df.auth_ts - df.reg_ts) // 86400\n",
    "    count_reg=df.reg_ts.nunique()\n",
    "    count_auth=df.query('ret_day == @ret_d').auth_ts.nunique()\n",
    "    ret=count_auth / count_reg\n",
    "    return ret"
   ]
  },
  {
   "cell_type": "markdown",
   "id": "1118b714",
   "metadata": {},
   "source": [
    "Проверим"
   ]
  },
  {
   "cell_type": "code",
   "execution_count": 3,
   "id": "61797453",
   "metadata": {},
   "outputs": [
    {
     "data": {
      "text/plain": [
       "0.043615"
      ]
     },
     "execution_count": 3,
     "metadata": {},
     "output_type": "execute_result"
    }
   ],
   "source": [
    "reten(7)"
   ]
  },
  {
   "cell_type": "markdown",
   "id": "c79cc5cb",
   "metadata": {},
   "source": [
    "### Задание 2\n",
    "Имеются результаты A/B теста, в котором двум группам пользователей предлагались различные наборы акционных предложений. Известно, что ARPU в тестовой группе выше на 5%, чем в контрольной. При этом в контрольной группе 1928 игроков из 202103 оказались платящими, а в тестовой – 1805 из 202667.\n",
    "\n",
    "Какой набор предложений можно считать лучшим? Какие метрики стоит проанализировать для принятия правильного решения и как?"
   ]
  },
  {
   "cell_type": "code",
   "execution_count": 3,
   "id": "a705742e",
   "metadata": {},
   "outputs": [],
   "source": [
    "rev = pd.read_csv('https://getfile.dokpub.com/yandex/get/https://disk.yandex.ru/d/tIC0ye1712SDIw', sep = ';')"
   ]
  },
  {
   "cell_type": "code",
   "execution_count": 4,
   "id": "305ad672",
   "metadata": {},
   "outputs": [
    {
     "data": {
      "text/html": [
       "<div>\n",
       "<style scoped>\n",
       "    .dataframe tbody tr th:only-of-type {\n",
       "        vertical-align: middle;\n",
       "    }\n",
       "\n",
       "    .dataframe tbody tr th {\n",
       "        vertical-align: top;\n",
       "    }\n",
       "\n",
       "    .dataframe thead th {\n",
       "        text-align: right;\n",
       "    }\n",
       "</style>\n",
       "<table border=\"1\" class=\"dataframe\">\n",
       "  <thead>\n",
       "    <tr style=\"text-align: right;\">\n",
       "      <th></th>\n",
       "      <th>user_id</th>\n",
       "      <th>revenue</th>\n",
       "      <th>testgroup</th>\n",
       "    </tr>\n",
       "  </thead>\n",
       "  <tbody>\n",
       "    <tr>\n",
       "      <th>0</th>\n",
       "      <td>1</td>\n",
       "      <td>0</td>\n",
       "      <td>b</td>\n",
       "    </tr>\n",
       "    <tr>\n",
       "      <th>1</th>\n",
       "      <td>2</td>\n",
       "      <td>0</td>\n",
       "      <td>a</td>\n",
       "    </tr>\n",
       "    <tr>\n",
       "      <th>2</th>\n",
       "      <td>3</td>\n",
       "      <td>0</td>\n",
       "      <td>a</td>\n",
       "    </tr>\n",
       "    <tr>\n",
       "      <th>3</th>\n",
       "      <td>4</td>\n",
       "      <td>0</td>\n",
       "      <td>b</td>\n",
       "    </tr>\n",
       "    <tr>\n",
       "      <th>4</th>\n",
       "      <td>5</td>\n",
       "      <td>0</td>\n",
       "      <td>b</td>\n",
       "    </tr>\n",
       "  </tbody>\n",
       "</table>\n",
       "</div>"
      ],
      "text/plain": [
       "   user_id  revenue testgroup\n",
       "0        1        0         b\n",
       "1        2        0         a\n",
       "2        3        0         a\n",
       "3        4        0         b\n",
       "4        5        0         b"
      ]
     },
     "execution_count": 4,
     "metadata": {},
     "output_type": "execute_result"
    }
   ],
   "source": [
    "rev.head()"
   ]
  },
  {
   "cell_type": "markdown",
   "id": "95b19b49",
   "metadata": {},
   "source": [
    "Судя по условию задачи конверсия в покупку в контрольной группе выше, чем в тестовой. Проверим, есть ли в данных повторные покупки."
   ]
  },
  {
   "cell_type": "code",
   "execution_count": 5,
   "id": "6ce05656",
   "metadata": {},
   "outputs": [
    {
     "data": {
      "text/plain": [
       "(404770, 3)"
      ]
     },
     "execution_count": 5,
     "metadata": {},
     "output_type": "execute_result"
    }
   ],
   "source": [
    "rev.shape"
   ]
  },
  {
   "cell_type": "code",
   "execution_count": 6,
   "id": "c30d0940",
   "metadata": {},
   "outputs": [
    {
     "data": {
      "text/plain": [
       "404770"
      ]
     },
     "execution_count": 6,
     "metadata": {},
     "output_type": "execute_result"
    }
   ],
   "source": [
    "rev.user_id.nunique()"
   ]
  },
  {
   "cell_type": "markdown",
   "id": "7442861f",
   "metadata": {},
   "source": [
    "Повторных покупок нет, продолжим анализировать ARPU и конверсию. Т.к. в расчете ARPPU участвует и ARPU и конверсия, то сосредоточимся только на ARPPU. Для этого необходимо определить, статистически ли значима разница между получившимися метриками в группах. "
   ]
  },
  {
   "cell_type": "markdown",
   "id": "37902316",
   "metadata": {},
   "source": [
    "Получим датафреймы с оплатами для каждой из групп"
   ]
  },
  {
   "cell_type": "code",
   "execution_count": 7,
   "id": "09501d68",
   "metadata": {},
   "outputs": [],
   "source": [
    "rev_a=rev.query('revenue > 0 and testgroup == \"a\"')"
   ]
  },
  {
   "cell_type": "code",
   "execution_count": 8,
   "id": "14d7bda1",
   "metadata": {},
   "outputs": [],
   "source": [
    "rev_b=rev.query('revenue > 0 and testgroup == \"b\"')"
   ]
  },
  {
   "cell_type": "code",
   "execution_count": 9,
   "id": "459774bd",
   "metadata": {},
   "outputs": [
    {
     "data": {
      "text/plain": [
       "(1928, 3)"
      ]
     },
     "execution_count": 9,
     "metadata": {},
     "output_type": "execute_result"
    }
   ],
   "source": [
    "rev_a.shape"
   ]
  },
  {
   "cell_type": "code",
   "execution_count": 10,
   "id": "d81e7bbb",
   "metadata": {},
   "outputs": [
    {
     "data": {
      "text/plain": [
       "(1805, 3)"
      ]
     },
     "execution_count": 10,
     "metadata": {},
     "output_type": "execute_result"
    }
   ],
   "source": [
    "rev_b.shape"
   ]
  },
  {
   "cell_type": "markdown",
   "id": "c59650d3",
   "metadata": {},
   "source": [
    "Посмотрим, насколько ARPPU в тестовой группе больше"
   ]
  },
  {
   "cell_type": "code",
   "execution_count": 11,
   "id": "00502da1",
   "metadata": {},
   "outputs": [
    {
     "data": {
      "text/plain": [
       "2663.9984439834025"
      ]
     },
     "execution_count": 11,
     "metadata": {},
     "output_type": "execute_result"
    }
   ],
   "source": [
    "arppu_a=rev_a.revenue.sum() / rev_a.user_id.count()\n",
    "arppu_a"
   ]
  },
  {
   "cell_type": "code",
   "execution_count": 12,
   "id": "829cf022",
   "metadata": {},
   "outputs": [
    {
     "data": {
      "text/plain": [
       "3003.6581717451522"
      ]
     },
     "execution_count": 12,
     "metadata": {},
     "output_type": "execute_result"
    }
   ],
   "source": [
    "arppu_b=rev_b.revenue.sum() / rev_b.user_id.count()\n",
    "arppu_b"
   ]
  },
  {
   "cell_type": "code",
   "execution_count": 13,
   "id": "0670d40c",
   "metadata": {},
   "outputs": [
    {
     "data": {
      "text/plain": [
       "1.1274999722799635"
      ]
     },
     "execution_count": 13,
     "metadata": {},
     "output_type": "execute_result"
    }
   ],
   "source": [
    "arppu_b / arppu_a"
   ]
  },
  {
   "cell_type": "markdown",
   "id": "bbcd1c88",
   "metadata": {},
   "source": [
    "Итак, ARPPU в тестовой группе выше на 12,75%"
   ]
  },
  {
   "cell_type": "markdown",
   "id": "2f090486",
   "metadata": {},
   "source": [
    "Чтобы убедиться, что мы можем применить t-критерий, проверим гомогенность дисперсий и нормальность распределений.\n",
    "Гомогенность двух дисперсий проверим по критерию Левена"
   ]
  },
  {
   "cell_type": "code",
   "execution_count": 18,
   "id": "0fcb197a",
   "metadata": {},
   "outputs": [],
   "source": [
    "stat, p = levene(rev_a.revenue, rev_b.revenue, center = 'mean')"
   ]
  },
  {
   "cell_type": "code",
   "execution_count": 19,
   "id": "081422aa",
   "metadata": {},
   "outputs": [
    {
     "data": {
      "text/plain": [
       "1.3202514573715939e-93"
      ]
     },
     "execution_count": 19,
     "metadata": {},
     "output_type": "execute_result"
    }
   ],
   "source": [
    "p"
   ]
  },
  {
   "cell_type": "code",
   "execution_count": 24,
   "id": "acfc55af",
   "metadata": {},
   "outputs": [
    {
     "data": {
      "image/png": "[encoded data removed]",
      "text/plain": [
       "<Figure size 432x288 with 1 Axes>"
      ]
     },
     "metadata": {
      "needs_background": "light"
     },
     "output_type": "display_data"
    }
   ],
   "source": [
    "plt.scatter(rev_a.user_id, rev_a.revenue)\n",
    "plt.show()"
   ]
  },
  {
   "cell_type": "code",
   "execution_count": 23,
   "id": "dd2df743",
   "metadata": {},
   "outputs": [
    {
     "data": {
      "image/png": "[encoded data removed]",
      "text/plain": [
       "<Figure size 432x288 with 1 Axes>"
      ]
     },
     "metadata": {
      "needs_background": "light"
     },
     "output_type": "display_data"
    }
   ],
   "source": [
    "plt.scatter(rev_b.user_id, rev_b.revenue)\n",
    "plt.show()"
   ]
  },
  {
   "cell_type": "markdown",
   "id": "24ca2034",
   "metadata": {},
   "source": [
    "Проверим нормальность выборок"
   ]
  },
  {
   "cell_type": "code",
   "execution_count": 25,
   "id": "d6551cfa",
   "metadata": {},
   "outputs": [
    {
     "data": {
      "text/plain": [
       "ShapiroResult(statistic=0.26679253578186035, pvalue=0.0)"
      ]
     },
     "execution_count": 25,
     "metadata": {},
     "output_type": "execute_result"
    }
   ],
   "source": [
    "stats.shapiro(rev_a.revenue)"
   ]
  },
  {
   "cell_type": "code",
   "execution_count": 26,
   "id": "e003d3ad",
   "metadata": {},
   "outputs": [
    {
     "data": {
      "text/plain": [
       "ShapiroResult(statistic=0.9583123922348022, pvalue=2.491345674771425e-22)"
      ]
     },
     "execution_count": 26,
     "metadata": {},
     "output_type": "execute_result"
    }
   ],
   "source": [
    "stats.shapiro(rev_b.revenue)"
   ]
  },
  {
   "cell_type": "code",
   "execution_count": 30,
   "id": "39ffd396",
   "metadata": {},
   "outputs": [],
   "source": [
    "U1, p=stats.mannwhitneyu(rev_a.revenue, rev_b.revenue)"
   ]
  },
  {
   "cell_type": "code",
   "execution_count": 31,
   "id": "23f13d68",
   "metadata": {},
   "outputs": [
    {
     "data": {
      "text/plain": [
       "0.0"
      ]
     },
     "execution_count": 31,
     "metadata": {},
     "output_type": "execute_result"
    }
   ],
   "source": [
    "p"
   ]
  },
  {
   "cell_type": "markdown",
   "id": "c8ba27a7",
   "metadata": {},
   "source": [
    "#### Вывод:\n",
    "Разница между выборками значима и так как ARPPU в тестовой группе увеличилось, то измения стоит распространить на всех пользователей."
   ]
  },
  {
   "cell_type": "markdown",
   "id": "70055068",
   "metadata": {},
   "source": [
    "### Задание 3\n",
    "В игре Plants & Gardens каждый месяц проводятся тематические события, ограниченные по времени. В них игроки могут получить уникальные предметы для сада и персонажей, дополнительные монеты или бонусы. Для получения награды требуется пройти ряд уровней за определенное время. С помощью каких метрик можно оценить результаты последнего прошедшего события?\n",
    "\n",
    "Предположим, в другом событии мы усложнили механику событий так, что при каждой неудачной попытке выполнения уровня игрок будет откатываться на несколько уровней назад. Изменится ли набор метрик оценки результата? Если да, то как?"
   ]
  },
  {
   "cell_type": "markdown",
   "id": "5c81b673",
   "metadata": {},
   "source": [
    "#### Решение:\n",
    "Хорошо бы посмотреть DAU и сравнить его с DAU вне тематичнских событий. Также необходимо посмотреть изменение среднего времени пребывания в игре.\n",
    "\n",
    "В усложненном варианте также проверить выше обозначенные метрики, но добавить ещё и charn - как маркер удовлетворённости игрой."
   ]
  },
  {
   "cell_type": "code",
   "execution_count": null,
   "id": "5224e0f5",
   "metadata": {},
   "outputs": [],
   "source": []
  }
 ],
 "metadata": {
  "kernelspec": {
   "display_name": "Python 3",
   "language": "python",
   "name": "python3"
  },
  "language_info": {
   "codemirror_mode": {
    "name": "ipython",
    "version": 3
   },
   "file_extension": ".py",
   "mimetype": "text/x-python",
   "name": "python",
   "nbconvert_exporter": "python",
   "pygments_lexer": "ipython3",
   "version": "3.8.8"
  }
 },
 "nbformat": 4,
 "nbformat_minor": 5
}
