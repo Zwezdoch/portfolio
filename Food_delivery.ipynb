{
 "cells": [
  {
   "cell_type": "markdown",
   "id": "7c6f6857",
   "metadata": {},
   "source": [
    "# Задача\n",
    "\n",
    "\n",
    "### Дан срез транзакций фирмы по доставке продуктов. Найти все интересные инсайты. \n",
    "\n",
    "\n",
    "### Также у бизнеса есть большая проблема с ненайденными товарами: клиент заказывает товары, но они заканчиваются в магазине к моменту начала сборки. Пользователи, очевидно, очень недовольны таким опытом."
   ]
  },
  {
   "cell_type": "code",
   "execution_count": 1,
   "id": "05d96573",
   "metadata": {},
   "outputs": [],
   "source": [
    "import numpy as np\n",
    "import pandas as pd\n",
    "import matplotlib.pyplot as plt\n",
    "import datetime\n",
    "import seaborn as sns\n",
    "from datetime import timedelta"
   ]
  },
  {
   "cell_type": "markdown",
   "id": "794c3b68",
   "metadata": {},
   "source": [
    "### Время доставки"
   ]
  },
  {
   "cell_type": "code",
   "execution_count": 2,
   "id": "1889d66f",
   "metadata": {},
   "outputs": [],
   "source": [
    "orders = pd.read_csv('https://getfile.dokpub.com/yandex/get/https://disk.yandex.ru/d/NjRWe8Q6j3sJPA', parse_dates=[9, 10])"
   ]
  },
  {
   "cell_type": "code",
   "execution_count": 3,
   "id": "115fea85",
   "metadata": {},
   "outputs": [],
   "source": [
    "stores = pd.read_csv('https://getfile.dokpub.com/yandex/get/https://disk.yandex.ru/d/0hbGxkhotc_CxQ')"
   ]
  },
  {
   "cell_type": "markdown",
   "id": "faef991a",
   "metadata": {},
   "source": [
    "Оценим данные по заказам"
   ]
  },
  {
   "cell_type": "code",
   "execution_count": 4,
   "id": "13676359",
   "metadata": {},
   "outputs": [
    {
     "data": {
      "text/html": [
       "<div>\n",
       "<style scoped>\n",
       "    .dataframe tbody tr th:only-of-type {\n",
       "        vertical-align: middle;\n",
       "    }\n",
       "\n",
       "    .dataframe tbody tr th {\n",
       "        vertical-align: top;\n",
       "    }\n",
       "\n",
       "    .dataframe thead th {\n",
       "        text-align: right;\n",
       "    }\n",
       "</style>\n",
       "<table border=\"1\" class=\"dataframe\">\n",
       "  <thead>\n",
       "    <tr style=\"text-align: right;\">\n",
       "      <th></th>\n",
       "      <th>id</th>\n",
       "      <th>user_id</th>\n",
       "      <th>total_cost</th>\n",
       "      <th>cost</th>\n",
       "      <th>item_total</th>\n",
       "      <th>promo_total</th>\n",
       "      <th>total_weight</th>\n",
       "      <th>total_quantity</th>\n",
       "      <th>state</th>\n",
       "      <th>shipped_at</th>\n",
       "      <th>created_at</th>\n",
       "      <th>ship_address_id</th>\n",
       "      <th>store_id</th>\n",
       "      <th>delivery_window_id</th>\n",
       "    </tr>\n",
       "  </thead>\n",
       "  <tbody>\n",
       "    <tr>\n",
       "      <th>0</th>\n",
       "      <td>756927</td>\n",
       "      <td>139676</td>\n",
       "      <td>0.0</td>\n",
       "      <td>0.0</td>\n",
       "      <td>5015</td>\n",
       "      <td>0.0</td>\n",
       "      <td>37708</td>\n",
       "      <td>39</td>\n",
       "      <td>shipped</td>\n",
       "      <td>2018-08-26 15:01:42</td>\n",
       "      <td>2018-08-26 02:06:55</td>\n",
       "      <td>888330</td>\n",
       "      <td>1</td>\n",
       "      <td>226459</td>\n",
       "    </tr>\n",
       "    <tr>\n",
       "      <th>1</th>\n",
       "      <td>756963</td>\n",
       "      <td>139682</td>\n",
       "      <td>0.0</td>\n",
       "      <td>0.0</td>\n",
       "      <td>7096</td>\n",
       "      <td>0.0</td>\n",
       "      <td>49435</td>\n",
       "      <td>71</td>\n",
       "      <td>shipped</td>\n",
       "      <td>2018-08-26 16:28:41</td>\n",
       "      <td>2018-08-26 05:43:20</td>\n",
       "      <td>888394</td>\n",
       "      <td>1</td>\n",
       "      <td>226460</td>\n",
       "    </tr>\n",
       "    <tr>\n",
       "      <th>2</th>\n",
       "      <td>756983</td>\n",
       "      <td>63967</td>\n",
       "      <td>299.0</td>\n",
       "      <td>299.0</td>\n",
       "      <td>2724</td>\n",
       "      <td>-250.0</td>\n",
       "      <td>11590</td>\n",
       "      <td>32</td>\n",
       "      <td>shipped</td>\n",
       "      <td>2018-08-26 15:09:11</td>\n",
       "      <td>2018-08-26 06:12:13</td>\n",
       "      <td>888420</td>\n",
       "      <td>1</td>\n",
       "      <td>226459</td>\n",
       "    </tr>\n",
       "    <tr>\n",
       "      <th>3</th>\n",
       "      <td>756985</td>\n",
       "      <td>139687</td>\n",
       "      <td>0.0</td>\n",
       "      <td>0.0</td>\n",
       "      <td>3471</td>\n",
       "      <td>0.0</td>\n",
       "      <td>9915</td>\n",
       "      <td>13</td>\n",
       "      <td>shipped</td>\n",
       "      <td>2018-08-26 18:57:01</td>\n",
       "      <td>2018-08-26 06:13:59</td>\n",
       "      <td>888422</td>\n",
       "      <td>1</td>\n",
       "      <td>226462</td>\n",
       "    </tr>\n",
       "    <tr>\n",
       "      <th>4</th>\n",
       "      <td>757066</td>\n",
       "      <td>119006</td>\n",
       "      <td>299.0</td>\n",
       "      <td>299.0</td>\n",
       "      <td>1254</td>\n",
       "      <td>0.0</td>\n",
       "      <td>15022</td>\n",
       "      <td>24</td>\n",
       "      <td>shipped</td>\n",
       "      <td>2018-08-26 13:46:48</td>\n",
       "      <td>2018-08-26 07:40:58</td>\n",
       "      <td>870688</td>\n",
       "      <td>1</td>\n",
       "      <td>226458</td>\n",
       "    </tr>\n",
       "  </tbody>\n",
       "</table>\n",
       "</div>"
      ],
      "text/plain": [
       "       id  user_id  total_cost   cost  item_total  promo_total  total_weight  \\\n",
       "0  756927   139676         0.0    0.0        5015          0.0         37708   \n",
       "1  756963   139682         0.0    0.0        7096          0.0         49435   \n",
       "2  756983    63967       299.0  299.0        2724       -250.0         11590   \n",
       "3  756985   139687         0.0    0.0        3471          0.0          9915   \n",
       "4  757066   119006       299.0  299.0        1254          0.0         15022   \n",
       "\n",
       "   total_quantity    state          shipped_at          created_at  \\\n",
       "0              39  shipped 2018-08-26 15:01:42 2018-08-26 02:06:55   \n",
       "1              71  shipped 2018-08-26 16:28:41 2018-08-26 05:43:20   \n",
       "2              32  shipped 2018-08-26 15:09:11 2018-08-26 06:12:13   \n",
       "3              13  shipped 2018-08-26 18:57:01 2018-08-26 06:13:59   \n",
       "4              24  shipped 2018-08-26 13:46:48 2018-08-26 07:40:58   \n",
       "\n",
       "   ship_address_id  store_id  delivery_window_id  \n",
       "0           888330         1              226459  \n",
       "1           888394         1              226460  \n",
       "2           888420         1              226459  \n",
       "3           888422         1              226462  \n",
       "4           870688         1              226458  "
      ]
     },
     "execution_count": 4,
     "metadata": {},
     "output_type": "execute_result"
    }
   ],
   "source": [
    "orders.head()"
   ]
  },
  {
   "cell_type": "code",
   "execution_count": 5,
   "id": "d0b66b6f",
   "metadata": {},
   "outputs": [
    {
     "data": {
      "text/plain": [
       "(720433, 14)"
      ]
     },
     "execution_count": 5,
     "metadata": {},
     "output_type": "execute_result"
    }
   ],
   "source": [
    "orders.shape"
   ]
  },
  {
   "cell_type": "code",
   "execution_count": 6,
   "id": "bf1af65d",
   "metadata": {},
   "outputs": [
    {
     "data": {
      "text/plain": [
       "id                             int64\n",
       "user_id                        int64\n",
       "total_cost                   float64\n",
       "cost                         float64\n",
       "item_total                     int64\n",
       "promo_total                  float64\n",
       "total_weight                   int64\n",
       "total_quantity                 int64\n",
       "state                         object\n",
       "shipped_at            datetime64[ns]\n",
       "created_at            datetime64[ns]\n",
       "ship_address_id                int64\n",
       "store_id                       int64\n",
       "delivery_window_id             int64\n",
       "dtype: object"
      ]
     },
     "execution_count": 6,
     "metadata": {},
     "output_type": "execute_result"
    }
   ],
   "source": [
    "orders.dtypes"
   ]
  },
  {
   "cell_type": "markdown",
   "id": "6a1373c9",
   "metadata": {},
   "source": [
    "Добавим колонку с длительностью доставок"
   ]
  },
  {
   "cell_type": "code",
   "execution_count": 7,
   "id": "733e41a4",
   "metadata": {},
   "outputs": [],
   "source": [
    "orders['deliv_time'] = orders.shipped_at - orders.created_at"
   ]
  },
  {
   "cell_type": "markdown",
   "id": "7956a0d4",
   "metadata": {},
   "source": [
    "Чтобы минимизировать влияние выбросов оценим медиану времени доставки и время между 25 и 75 квантилем"
   ]
  },
  {
   "cell_type": "code",
   "execution_count": 8,
   "id": "4cccb4ef",
   "metadata": {},
   "outputs": [
    {
     "data": {
      "text/plain": [
       "Timedelta('1 days 01:18:07')"
      ]
     },
     "execution_count": 8,
     "metadata": {},
     "output_type": "execute_result"
    }
   ],
   "source": [
    "orders.deliv_time.median()"
   ]
  },
  {
   "cell_type": "code",
   "execution_count": 9,
   "id": "81f4cb08",
   "metadata": {},
   "outputs": [
    {
     "data": {
      "text/plain": [
       "0.25   0 days 12:06:45\n",
       "0.75   3 days 13:59:53\n",
       "Name: deliv_time, dtype: timedelta64[ns]"
      ]
     },
     "execution_count": 9,
     "metadata": {},
     "output_type": "execute_result"
    }
   ],
   "source": [
    "orders.deliv_time.quantile(q=[0.25, 0.75])"
   ]
  },
  {
   "cell_type": "markdown",
   "id": "f785b859",
   "metadata": {},
   "source": [
    "Как видим, что время доставки достаточно длительное и часто больше суток, что может негативно влиять на лояльность покупателя"
   ]
  },
  {
   "cell_type": "markdown",
   "id": "884f6e39",
   "metadata": {},
   "source": [
    "Сравним данные по городам"
   ]
  },
  {
   "cell_type": "code",
   "execution_count": 10,
   "id": "52a7d8eb",
   "metadata": {},
   "outputs": [
    {
     "data": {
      "text/plain": [
       "(720433, 18)"
      ]
     },
     "execution_count": 10,
     "metadata": {},
     "output_type": "execute_result"
    }
   ],
   "source": [
    "orders_stores = orders.merge(stores, how = 'left', left_on = 'store_id', right_on = 'id')\n",
    "orders_stores.shape"
   ]
  },
  {
   "cell_type": "markdown",
   "id": "c32ae627",
   "metadata": {},
   "source": [
    "Всего городов в срезе:"
   ]
  },
  {
   "cell_type": "code",
   "execution_count": 11,
   "id": "e35b98cf",
   "metadata": {},
   "outputs": [
    {
     "data": {
      "text/plain": [
       "7"
      ]
     },
     "execution_count": 11,
     "metadata": {},
     "output_type": "execute_result"
    }
   ],
   "source": [
    "orders_stores.city.nunique()"
   ]
  },
  {
   "cell_type": "markdown",
   "id": "9690a35b",
   "metadata": {},
   "source": [
    "Для удобства расчетов переведем длительность доставки в часы"
   ]
  },
  {
   "cell_type": "code",
   "execution_count": 12,
   "id": "3cd3798b",
   "metadata": {},
   "outputs": [
    {
     "data": {
      "text/html": [
       "<div>\n",
       "<style scoped>\n",
       "    .dataframe tbody tr th:only-of-type {\n",
       "        vertical-align: middle;\n",
       "    }\n",
       "\n",
       "    .dataframe tbody tr th {\n",
       "        vertical-align: top;\n",
       "    }\n",
       "\n",
       "    .dataframe thead th {\n",
       "        text-align: right;\n",
       "    }\n",
       "</style>\n",
       "<table border=\"1\" class=\"dataframe\">\n",
       "  <thead>\n",
       "    <tr style=\"text-align: right;\">\n",
       "      <th></th>\n",
       "      <th>id_x</th>\n",
       "      <th>user_id</th>\n",
       "      <th>total_cost</th>\n",
       "      <th>cost</th>\n",
       "      <th>item_total</th>\n",
       "      <th>promo_total</th>\n",
       "      <th>total_weight</th>\n",
       "      <th>total_quantity</th>\n",
       "      <th>state</th>\n",
       "      <th>shipped_at</th>\n",
       "      <th>created_at</th>\n",
       "      <th>ship_address_id</th>\n",
       "      <th>store_id</th>\n",
       "      <th>delivery_window_id</th>\n",
       "      <th>deliv_time</th>\n",
       "      <th>id_y</th>\n",
       "      <th>city</th>\n",
       "      <th>retailer_id</th>\n",
       "    </tr>\n",
       "  </thead>\n",
       "  <tbody>\n",
       "    <tr>\n",
       "      <th>0</th>\n",
       "      <td>756927</td>\n",
       "      <td>139676</td>\n",
       "      <td>0.0</td>\n",
       "      <td>0.0</td>\n",
       "      <td>5015</td>\n",
       "      <td>0.0</td>\n",
       "      <td>37708</td>\n",
       "      <td>39</td>\n",
       "      <td>shipped</td>\n",
       "      <td>2018-08-26 15:01:42</td>\n",
       "      <td>2018-08-26 02:06:55</td>\n",
       "      <td>888330</td>\n",
       "      <td>1</td>\n",
       "      <td>226459</td>\n",
       "      <td>12.0</td>\n",
       "      <td>1</td>\n",
       "      <td>1</td>\n",
       "      <td>1</td>\n",
       "    </tr>\n",
       "    <tr>\n",
       "      <th>1</th>\n",
       "      <td>756963</td>\n",
       "      <td>139682</td>\n",
       "      <td>0.0</td>\n",
       "      <td>0.0</td>\n",
       "      <td>7096</td>\n",
       "      <td>0.0</td>\n",
       "      <td>49435</td>\n",
       "      <td>71</td>\n",
       "      <td>shipped</td>\n",
       "      <td>2018-08-26 16:28:41</td>\n",
       "      <td>2018-08-26 05:43:20</td>\n",
       "      <td>888394</td>\n",
       "      <td>1</td>\n",
       "      <td>226460</td>\n",
       "      <td>10.0</td>\n",
       "      <td>1</td>\n",
       "      <td>1</td>\n",
       "      <td>1</td>\n",
       "    </tr>\n",
       "    <tr>\n",
       "      <th>2</th>\n",
       "      <td>756983</td>\n",
       "      <td>63967</td>\n",
       "      <td>299.0</td>\n",
       "      <td>299.0</td>\n",
       "      <td>2724</td>\n",
       "      <td>-250.0</td>\n",
       "      <td>11590</td>\n",
       "      <td>32</td>\n",
       "      <td>shipped</td>\n",
       "      <td>2018-08-26 15:09:11</td>\n",
       "      <td>2018-08-26 06:12:13</td>\n",
       "      <td>888420</td>\n",
       "      <td>1</td>\n",
       "      <td>226459</td>\n",
       "      <td>8.0</td>\n",
       "      <td>1</td>\n",
       "      <td>1</td>\n",
       "      <td>1</td>\n",
       "    </tr>\n",
       "    <tr>\n",
       "      <th>3</th>\n",
       "      <td>756985</td>\n",
       "      <td>139687</td>\n",
       "      <td>0.0</td>\n",
       "      <td>0.0</td>\n",
       "      <td>3471</td>\n",
       "      <td>0.0</td>\n",
       "      <td>9915</td>\n",
       "      <td>13</td>\n",
       "      <td>shipped</td>\n",
       "      <td>2018-08-26 18:57:01</td>\n",
       "      <td>2018-08-26 06:13:59</td>\n",
       "      <td>888422</td>\n",
       "      <td>1</td>\n",
       "      <td>226462</td>\n",
       "      <td>12.0</td>\n",
       "      <td>1</td>\n",
       "      <td>1</td>\n",
       "      <td>1</td>\n",
       "    </tr>\n",
       "    <tr>\n",
       "      <th>4</th>\n",
       "      <td>757066</td>\n",
       "      <td>119006</td>\n",
       "      <td>299.0</td>\n",
       "      <td>299.0</td>\n",
       "      <td>1254</td>\n",
       "      <td>0.0</td>\n",
       "      <td>15022</td>\n",
       "      <td>24</td>\n",
       "      <td>shipped</td>\n",
       "      <td>2018-08-26 13:46:48</td>\n",
       "      <td>2018-08-26 07:40:58</td>\n",
       "      <td>870688</td>\n",
       "      <td>1</td>\n",
       "      <td>226458</td>\n",
       "      <td>6.0</td>\n",
       "      <td>1</td>\n",
       "      <td>1</td>\n",
       "      <td>1</td>\n",
       "    </tr>\n",
       "  </tbody>\n",
       "</table>\n",
       "</div>"
      ],
      "text/plain": [
       "     id_x  user_id  total_cost   cost  item_total  promo_total  total_weight  \\\n",
       "0  756927   139676         0.0    0.0        5015          0.0         37708   \n",
       "1  756963   139682         0.0    0.0        7096          0.0         49435   \n",
       "2  756983    63967       299.0  299.0        2724       -250.0         11590   \n",
       "3  756985   139687         0.0    0.0        3471          0.0          9915   \n",
       "4  757066   119006       299.0  299.0        1254          0.0         15022   \n",
       "\n",
       "   total_quantity    state          shipped_at          created_at  \\\n",
       "0              39  shipped 2018-08-26 15:01:42 2018-08-26 02:06:55   \n",
       "1              71  shipped 2018-08-26 16:28:41 2018-08-26 05:43:20   \n",
       "2              32  shipped 2018-08-26 15:09:11 2018-08-26 06:12:13   \n",
       "3              13  shipped 2018-08-26 18:57:01 2018-08-26 06:13:59   \n",
       "4              24  shipped 2018-08-26 13:46:48 2018-08-26 07:40:58   \n",
       "\n",
       "   ship_address_id  store_id  delivery_window_id  deliv_time  id_y  city  \\\n",
       "0           888330         1              226459        12.0     1     1   \n",
       "1           888394         1              226460        10.0     1     1   \n",
       "2           888420         1              226459         8.0     1     1   \n",
       "3           888422         1              226462        12.0     1     1   \n",
       "4           870688         1              226458         6.0     1     1   \n",
       "\n",
       "   retailer_id  \n",
       "0            1  \n",
       "1            1  \n",
       "2            1  \n",
       "3            1  \n",
       "4            1  "
      ]
     },
     "execution_count": 12,
     "metadata": {},
     "output_type": "execute_result"
    }
   ],
   "source": [
    "orders_stores['deliv_time'] = orders_stores.deliv_time.apply(lambda c: c.total_seconds() // 3600)\n",
    "orders_stores.head()"
   ]
  },
  {
   "cell_type": "code",
   "execution_count": 13,
   "id": "fc24b4a1",
   "metadata": {},
   "outputs": [
    {
     "data": {
      "text/plain": [
       "25.0"
      ]
     },
     "execution_count": 13,
     "metadata": {},
     "output_type": "execute_result"
    }
   ],
   "source": [
    "orders_stores.deliv_time.median()"
   ]
  },
  {
   "cell_type": "code",
   "execution_count": 14,
   "id": "c8f667fb",
   "metadata": {},
   "outputs": [
    {
     "data": {
      "text/html": [
       "<div>\n",
       "<style scoped>\n",
       "    .dataframe tbody tr th:only-of-type {\n",
       "        vertical-align: middle;\n",
       "    }\n",
       "\n",
       "    .dataframe tbody tr th {\n",
       "        vertical-align: top;\n",
       "    }\n",
       "\n",
       "    .dataframe thead th {\n",
       "        text-align: right;\n",
       "    }\n",
       "</style>\n",
       "<table border=\"1\" class=\"dataframe\">\n",
       "  <thead>\n",
       "    <tr style=\"text-align: right;\">\n",
       "      <th></th>\n",
       "      <th>city</th>\n",
       "      <th>deliv_time</th>\n",
       "    </tr>\n",
       "  </thead>\n",
       "  <tbody>\n",
       "    <tr>\n",
       "      <th>0</th>\n",
       "      <td>1</td>\n",
       "      <td>27.0</td>\n",
       "    </tr>\n",
       "    <tr>\n",
       "      <th>1</th>\n",
       "      <td>2</td>\n",
       "      <td>16.0</td>\n",
       "    </tr>\n",
       "    <tr>\n",
       "      <th>2</th>\n",
       "      <td>5</td>\n",
       "      <td>20.0</td>\n",
       "    </tr>\n",
       "    <tr>\n",
       "      <th>3</th>\n",
       "      <td>7</td>\n",
       "      <td>19.0</td>\n",
       "    </tr>\n",
       "    <tr>\n",
       "      <th>4</th>\n",
       "      <td>8</td>\n",
       "      <td>27.0</td>\n",
       "    </tr>\n",
       "    <tr>\n",
       "      <th>5</th>\n",
       "      <td>10</td>\n",
       "      <td>22.0</td>\n",
       "    </tr>\n",
       "    <tr>\n",
       "      <th>6</th>\n",
       "      <td>13</td>\n",
       "      <td>24.0</td>\n",
       "    </tr>\n",
       "  </tbody>\n",
       "</table>\n",
       "</div>"
      ],
      "text/plain": [
       "   city  deliv_time\n",
       "0     1        27.0\n",
       "1     2        16.0\n",
       "2     5        20.0\n",
       "3     7        19.0\n",
       "4     8        27.0\n",
       "5    10        22.0\n",
       "6    13        24.0"
      ]
     },
     "execution_count": 14,
     "metadata": {},
     "output_type": "execute_result"
    }
   ],
   "source": [
    "orders_stores_del_md = orders_stores.groupby('city', as_index = False).agg({'deliv_time': 'median'})\n",
    "orders_stores_del_md"
   ]
  },
  {
   "cell_type": "markdown",
   "id": "d7dd24c3",
   "metadata": {},
   "source": [
    "Проверим, есть ли связь с повторными покупками"
   ]
  },
  {
   "cell_type": "code",
   "execution_count": 15,
   "id": "6abe55ab",
   "metadata": {},
   "outputs": [
    {
     "data": {
      "text/html": [
       "<div>\n",
       "<style scoped>\n",
       "    .dataframe tbody tr th:only-of-type {\n",
       "        vertical-align: middle;\n",
       "    }\n",
       "\n",
       "    .dataframe tbody tr th {\n",
       "        vertical-align: top;\n",
       "    }\n",
       "\n",
       "    .dataframe thead th {\n",
       "        text-align: right;\n",
       "    }\n",
       "</style>\n",
       "<table border=\"1\" class=\"dataframe\">\n",
       "  <thead>\n",
       "    <tr style=\"text-align: right;\">\n",
       "      <th></th>\n",
       "      <th>city</th>\n",
       "      <th>orders_count</th>\n",
       "      <th>user_count</th>\n",
       "    </tr>\n",
       "  </thead>\n",
       "  <tbody>\n",
       "    <tr>\n",
       "      <th>0</th>\n",
       "      <td>1</td>\n",
       "      <td>478861</td>\n",
       "      <td>176015</td>\n",
       "    </tr>\n",
       "    <tr>\n",
       "      <th>1</th>\n",
       "      <td>2</td>\n",
       "      <td>39784</td>\n",
       "      <td>13948</td>\n",
       "    </tr>\n",
       "    <tr>\n",
       "      <th>2</th>\n",
       "      <td>5</td>\n",
       "      <td>29386</td>\n",
       "      <td>11671</td>\n",
       "    </tr>\n",
       "    <tr>\n",
       "      <th>3</th>\n",
       "      <td>7</td>\n",
       "      <td>76360</td>\n",
       "      <td>21819</td>\n",
       "    </tr>\n",
       "    <tr>\n",
       "      <th>4</th>\n",
       "      <td>8</td>\n",
       "      <td>28677</td>\n",
       "      <td>11600</td>\n",
       "    </tr>\n",
       "    <tr>\n",
       "      <th>5</th>\n",
       "      <td>10</td>\n",
       "      <td>46789</td>\n",
       "      <td>15816</td>\n",
       "    </tr>\n",
       "    <tr>\n",
       "      <th>6</th>\n",
       "      <td>13</td>\n",
       "      <td>20576</td>\n",
       "      <td>7551</td>\n",
       "    </tr>\n",
       "  </tbody>\n",
       "</table>\n",
       "</div>"
      ],
      "text/plain": [
       "   city  orders_count  user_count\n",
       "0     1        478861      176015\n",
       "1     2         39784       13948\n",
       "2     5         29386       11671\n",
       "3     7         76360       21819\n",
       "4     8         28677       11600\n",
       "5    10         46789       15816\n",
       "6    13         20576        7551"
      ]
     },
     "execution_count": 15,
     "metadata": {},
     "output_type": "execute_result"
    }
   ],
   "source": [
    "df_rtn=orders_stores.groupby('city', as_index=False).agg({'id_x': 'count', 'user_id': 'nunique'}). \\\n",
    "                                                        rename(columns={'id_x': 'orders_count', 'user_id': 'user_count'})\n",
    "df_rtn"
   ]
  },
  {
   "cell_type": "code",
   "execution_count": 16,
   "id": "5bf6986c",
   "metadata": {},
   "outputs": [
    {
     "data": {
      "text/html": [
       "<div>\n",
       "<style scoped>\n",
       "    .dataframe tbody tr th:only-of-type {\n",
       "        vertical-align: middle;\n",
       "    }\n",
       "\n",
       "    .dataframe tbody tr th {\n",
       "        vertical-align: top;\n",
       "    }\n",
       "\n",
       "    .dataframe thead th {\n",
       "        text-align: right;\n",
       "    }\n",
       "</style>\n",
       "<table border=\"1\" class=\"dataframe\">\n",
       "  <thead>\n",
       "    <tr style=\"text-align: right;\">\n",
       "      <th></th>\n",
       "      <th>city</th>\n",
       "      <th>orders_count</th>\n",
       "      <th>user_count</th>\n",
       "      <th>rtn</th>\n",
       "    </tr>\n",
       "  </thead>\n",
       "  <tbody>\n",
       "    <tr>\n",
       "      <th>0</th>\n",
       "      <td>1</td>\n",
       "      <td>478861</td>\n",
       "      <td>176015</td>\n",
       "      <td>2.720569</td>\n",
       "    </tr>\n",
       "    <tr>\n",
       "      <th>1</th>\n",
       "      <td>2</td>\n",
       "      <td>39784</td>\n",
       "      <td>13948</td>\n",
       "      <td>2.852309</td>\n",
       "    </tr>\n",
       "    <tr>\n",
       "      <th>2</th>\n",
       "      <td>5</td>\n",
       "      <td>29386</td>\n",
       "      <td>11671</td>\n",
       "      <td>2.517865</td>\n",
       "    </tr>\n",
       "    <tr>\n",
       "      <th>3</th>\n",
       "      <td>7</td>\n",
       "      <td>76360</td>\n",
       "      <td>21819</td>\n",
       "      <td>3.499702</td>\n",
       "    </tr>\n",
       "    <tr>\n",
       "      <th>4</th>\n",
       "      <td>8</td>\n",
       "      <td>28677</td>\n",
       "      <td>11600</td>\n",
       "      <td>2.472155</td>\n",
       "    </tr>\n",
       "    <tr>\n",
       "      <th>5</th>\n",
       "      <td>10</td>\n",
       "      <td>46789</td>\n",
       "      <td>15816</td>\n",
       "      <td>2.958333</td>\n",
       "    </tr>\n",
       "    <tr>\n",
       "      <th>6</th>\n",
       "      <td>13</td>\n",
       "      <td>20576</td>\n",
       "      <td>7551</td>\n",
       "      <td>2.724937</td>\n",
       "    </tr>\n",
       "  </tbody>\n",
       "</table>\n",
       "</div>"
      ],
      "text/plain": [
       "   city  orders_count  user_count       rtn\n",
       "0     1        478861      176015  2.720569\n",
       "1     2         39784       13948  2.852309\n",
       "2     5         29386       11671  2.517865\n",
       "3     7         76360       21819  3.499702\n",
       "4     8         28677       11600  2.472155\n",
       "5    10         46789       15816  2.958333\n",
       "6    13         20576        7551  2.724937"
      ]
     },
     "execution_count": 16,
     "metadata": {},
     "output_type": "execute_result"
    }
   ],
   "source": [
    "df_rtn['rtn'] = df_rtn.orders_count / df_rtn.user_count\n",
    "df_rtn"
   ]
  },
  {
   "cell_type": "code",
   "execution_count": 17,
   "id": "6021cde1",
   "metadata": {},
   "outputs": [
    {
     "data": {
      "text/html": [
       "<div>\n",
       "<style scoped>\n",
       "    .dataframe tbody tr th:only-of-type {\n",
       "        vertical-align: middle;\n",
       "    }\n",
       "\n",
       "    .dataframe tbody tr th {\n",
       "        vertical-align: top;\n",
       "    }\n",
       "\n",
       "    .dataframe thead th {\n",
       "        text-align: right;\n",
       "    }\n",
       "</style>\n",
       "<table border=\"1\" class=\"dataframe\">\n",
       "  <thead>\n",
       "    <tr style=\"text-align: right;\">\n",
       "      <th></th>\n",
       "      <th>city</th>\n",
       "      <th>orders_count</th>\n",
       "      <th>user_count</th>\n",
       "      <th>rtn</th>\n",
       "      <th>deliv_time</th>\n",
       "    </tr>\n",
       "  </thead>\n",
       "  <tbody>\n",
       "    <tr>\n",
       "      <th>0</th>\n",
       "      <td>1</td>\n",
       "      <td>478861</td>\n",
       "      <td>176015</td>\n",
       "      <td>2.720569</td>\n",
       "      <td>27.0</td>\n",
       "    </tr>\n",
       "    <tr>\n",
       "      <th>1</th>\n",
       "      <td>2</td>\n",
       "      <td>39784</td>\n",
       "      <td>13948</td>\n",
       "      <td>2.852309</td>\n",
       "      <td>16.0</td>\n",
       "    </tr>\n",
       "    <tr>\n",
       "      <th>2</th>\n",
       "      <td>5</td>\n",
       "      <td>29386</td>\n",
       "      <td>11671</td>\n",
       "      <td>2.517865</td>\n",
       "      <td>20.0</td>\n",
       "    </tr>\n",
       "    <tr>\n",
       "      <th>3</th>\n",
       "      <td>7</td>\n",
       "      <td>76360</td>\n",
       "      <td>21819</td>\n",
       "      <td>3.499702</td>\n",
       "      <td>19.0</td>\n",
       "    </tr>\n",
       "    <tr>\n",
       "      <th>4</th>\n",
       "      <td>8</td>\n",
       "      <td>28677</td>\n",
       "      <td>11600</td>\n",
       "      <td>2.472155</td>\n",
       "      <td>27.0</td>\n",
       "    </tr>\n",
       "    <tr>\n",
       "      <th>5</th>\n",
       "      <td>10</td>\n",
       "      <td>46789</td>\n",
       "      <td>15816</td>\n",
       "      <td>2.958333</td>\n",
       "      <td>22.0</td>\n",
       "    </tr>\n",
       "    <tr>\n",
       "      <th>6</th>\n",
       "      <td>13</td>\n",
       "      <td>20576</td>\n",
       "      <td>7551</td>\n",
       "      <td>2.724937</td>\n",
       "      <td>24.0</td>\n",
       "    </tr>\n",
       "  </tbody>\n",
       "</table>\n",
       "</div>"
      ],
      "text/plain": [
       "   city  orders_count  user_count       rtn  deliv_time\n",
       "0     1        478861      176015  2.720569        27.0\n",
       "1     2         39784       13948  2.852309        16.0\n",
       "2     5         29386       11671  2.517865        20.0\n",
       "3     7         76360       21819  3.499702        19.0\n",
       "4     8         28677       11600  2.472155        27.0\n",
       "5    10         46789       15816  2.958333        22.0\n",
       "6    13         20576        7551  2.724937        24.0"
      ]
     },
     "execution_count": 17,
     "metadata": {},
     "output_type": "execute_result"
    }
   ],
   "source": [
    "df_rtn=df_rtn.merge(orders_stores_del_md, on = 'city')\n",
    "df_rtn"
   ]
  },
  {
   "cell_type": "code",
   "execution_count": 18,
   "id": "f256b92d",
   "metadata": {},
   "outputs": [
    {
     "data": {
      "text/plain": [
       "Text(0, 0.5, 'Повторные заказы')"
      ]
     },
     "execution_count": 18,
     "metadata": {},
     "output_type": "execute_result"
    },
    {
     "data": {
      "image/png": "[encoded data removed]",
      "text/plain": [
       "<Figure size 720x360 with 1 Axes>"
      ]
     },
     "metadata": {},
     "output_type": "display_data"
    }
   ],
   "source": [
    "sns.set(style='whitegrid', rc={'figure.figsize' : (10,5)})\n",
    "sns.scatterplot(x = 'deliv_time', y = 'rtn', data = df_rtn)\n",
    "plt.title('Взаимосвязь повторных покупок и времени доставки товаров')\n",
    "plt.xlabel('Время доставки, ч')\n",
    "plt.ylabel('Повторные заказы')"
   ]
  },
  {
   "cell_type": "code",
   "execution_count": 19,
   "id": "03373328",
   "metadata": {},
   "outputs": [
    {
     "data": {
      "text/html": [
       "<div>\n",
       "<style scoped>\n",
       "    .dataframe tbody tr th:only-of-type {\n",
       "        vertical-align: middle;\n",
       "    }\n",
       "\n",
       "    .dataframe tbody tr th {\n",
       "        vertical-align: top;\n",
       "    }\n",
       "\n",
       "    .dataframe thead th {\n",
       "        text-align: right;\n",
       "    }\n",
       "</style>\n",
       "<table border=\"1\" class=\"dataframe\">\n",
       "  <thead>\n",
       "    <tr style=\"text-align: right;\">\n",
       "      <th></th>\n",
       "      <th>city</th>\n",
       "      <th>orders_count</th>\n",
       "      <th>user_count</th>\n",
       "      <th>rtn</th>\n",
       "      <th>deliv_time</th>\n",
       "    </tr>\n",
       "  </thead>\n",
       "  <tbody>\n",
       "    <tr>\n",
       "      <th>city</th>\n",
       "      <td>1.000000</td>\n",
       "      <td>-0.591189</td>\n",
       "      <td>-0.592014</td>\n",
       "      <td>0.060881</td>\n",
       "      <td>0.201718</td>\n",
       "    </tr>\n",
       "    <tr>\n",
       "      <th>orders_count</th>\n",
       "      <td>-0.591189</td>\n",
       "      <td>1.000000</td>\n",
       "      <td>0.999177</td>\n",
       "      <td>-0.027150</td>\n",
       "      <td>0.470525</td>\n",
       "    </tr>\n",
       "    <tr>\n",
       "      <th>user_count</th>\n",
       "      <td>-0.592014</td>\n",
       "      <td>0.999177</td>\n",
       "      <td>1.000000</td>\n",
       "      <td>-0.067032</td>\n",
       "      <td>0.486865</td>\n",
       "    </tr>\n",
       "    <tr>\n",
       "      <th>rtn</th>\n",
       "      <td>0.060881</td>\n",
       "      <td>-0.027150</td>\n",
       "      <td>-0.067032</td>\n",
       "      <td>1.000000</td>\n",
       "      <td>-0.473505</td>\n",
       "    </tr>\n",
       "    <tr>\n",
       "      <th>deliv_time</th>\n",
       "      <td>0.201718</td>\n",
       "      <td>0.470525</td>\n",
       "      <td>0.486865</td>\n",
       "      <td>-0.473505</td>\n",
       "      <td>1.000000</td>\n",
       "    </tr>\n",
       "  </tbody>\n",
       "</table>\n",
       "</div>"
      ],
      "text/plain": [
       "                  city  orders_count  user_count       rtn  deliv_time\n",
       "city          1.000000     -0.591189   -0.592014  0.060881    0.201718\n",
       "orders_count -0.591189      1.000000    0.999177 -0.027150    0.470525\n",
       "user_count   -0.592014      0.999177    1.000000 -0.067032    0.486865\n",
       "rtn           0.060881     -0.027150   -0.067032  1.000000   -0.473505\n",
       "deliv_time    0.201718      0.470525    0.486865 -0.473505    1.000000"
      ]
     },
     "execution_count": 19,
     "metadata": {},
     "output_type": "execute_result"
    }
   ],
   "source": [
    "df_rtn.corr()"
   ]
  },
  {
   "cell_type": "markdown",
   "id": "0e6117c4",
   "metadata": {},
   "source": [
    "Получили умеренную отрицательную корреляцию (-0.47) между повтрными покупками и временем доставки, так что необходимо разработать меры по сокращению времени доставки особенно в городах с id = 1 и 8"
   ]
  },
  {
   "cell_type": "markdown",
   "id": "af81e089",
   "metadata": {},
   "source": [
    "___"
   ]
  },
  {
   "cell_type": "markdown",
   "id": "2be190b1",
   "metadata": {},
   "source": [
    "### Замены товаров"
   ]
  },
  {
   "cell_type": "code",
   "execution_count": 20,
   "id": "6aaf99ae",
   "metadata": {},
   "outputs": [
    {
     "data": {
      "text/html": [
       "<div>\n",
       "<style scoped>\n",
       "    .dataframe tbody tr th:only-of-type {\n",
       "        vertical-align: middle;\n",
       "    }\n",
       "\n",
       "    .dataframe tbody tr th {\n",
       "        vertical-align: top;\n",
       "    }\n",
       "\n",
       "    .dataframe thead th {\n",
       "        text-align: right;\n",
       "    }\n",
       "</style>\n",
       "<table border=\"1\" class=\"dataframe\">\n",
       "  <thead>\n",
       "    <tr style=\"text-align: right;\">\n",
       "      <th></th>\n",
       "      <th>order_id</th>\n",
       "      <th>item_id</th>\n",
       "      <th>state</th>\n",
       "    </tr>\n",
       "  </thead>\n",
       "  <tbody>\n",
       "    <tr>\n",
       "      <th>0</th>\n",
       "      <td>480785</td>\n",
       "      <td>6466916</td>\n",
       "      <td>replaced</td>\n",
       "    </tr>\n",
       "    <tr>\n",
       "      <th>1</th>\n",
       "      <td>480785</td>\n",
       "      <td>6466940</td>\n",
       "      <td>replaced</td>\n",
       "    </tr>\n",
       "    <tr>\n",
       "      <th>2</th>\n",
       "      <td>480785</td>\n",
       "      <td>6466778</td>\n",
       "      <td>replaced</td>\n",
       "    </tr>\n",
       "    <tr>\n",
       "      <th>3</th>\n",
       "      <td>480785</td>\n",
       "      <td>6466825</td>\n",
       "      <td>replaced</td>\n",
       "    </tr>\n",
       "    <tr>\n",
       "      <th>4</th>\n",
       "      <td>480786</td>\n",
       "      <td>7261201</td>\n",
       "      <td>replaced</td>\n",
       "    </tr>\n",
       "  </tbody>\n",
       "</table>\n",
       "</div>"
      ],
      "text/plain": [
       "   order_id  item_id     state\n",
       "0    480785  6466916  replaced\n",
       "1    480785  6466940  replaced\n",
       "2    480785  6466778  replaced\n",
       "3    480785  6466825  replaced\n",
       "4    480786  7261201  replaced"
      ]
     },
     "execution_count": 20,
     "metadata": {},
     "output_type": "execute_result"
    }
   ],
   "source": [
    "replacements = pd.read_csv('https://getfile.dokpub.com/yandex/get/https://disk.yandex.ru/d/7kzDpj1u7B9osQ')\n",
    "replacements.head()"
   ]
  },
  {
   "cell_type": "code",
   "execution_count": 21,
   "id": "1eed90e0",
   "metadata": {},
   "outputs": [
    {
     "data": {
      "text/html": [
       "<div>\n",
       "<style scoped>\n",
       "    .dataframe tbody tr th:only-of-type {\n",
       "        vertical-align: middle;\n",
       "    }\n",
       "\n",
       "    .dataframe tbody tr th {\n",
       "        vertical-align: top;\n",
       "    }\n",
       "\n",
       "    .dataframe thead th {\n",
       "        text-align: right;\n",
       "    }\n",
       "</style>\n",
       "<table border=\"1\" class=\"dataframe\">\n",
       "  <thead>\n",
       "    <tr style=\"text-align: right;\">\n",
       "      <th></th>\n",
       "      <th>order_id</th>\n",
       "      <th>item_id</th>\n",
       "      <th>state</th>\n",
       "    </tr>\n",
       "  </thead>\n",
       "  <tbody>\n",
       "    <tr>\n",
       "      <th>0</th>\n",
       "      <td>480443</td>\n",
       "      <td>5333890</td>\n",
       "      <td>canceled</td>\n",
       "    </tr>\n",
       "    <tr>\n",
       "      <th>1</th>\n",
       "      <td>480443</td>\n",
       "      <td>5333777</td>\n",
       "      <td>canceled</td>\n",
       "    </tr>\n",
       "    <tr>\n",
       "      <th>2</th>\n",
       "      <td>480443</td>\n",
       "      <td>5334118</td>\n",
       "      <td>canceled</td>\n",
       "    </tr>\n",
       "    <tr>\n",
       "      <th>3</th>\n",
       "      <td>480452</td>\n",
       "      <td>5333731</td>\n",
       "      <td>canceled</td>\n",
       "    </tr>\n",
       "    <tr>\n",
       "      <th>4</th>\n",
       "      <td>480452</td>\n",
       "      <td>5333727</td>\n",
       "      <td>canceled</td>\n",
       "    </tr>\n",
       "  </tbody>\n",
       "</table>\n",
       "</div>"
      ],
      "text/plain": [
       "   order_id  item_id     state\n",
       "0    480443  5333890  canceled\n",
       "1    480443  5333777  canceled\n",
       "2    480443  5334118  canceled\n",
       "3    480452  5333731  canceled\n",
       "4    480452  5333727  canceled"
      ]
     },
     "execution_count": 21,
     "metadata": {},
     "output_type": "execute_result"
    }
   ],
   "source": [
    "cancellations = pd.read_csv('https://getfile.dokpub.com/yandex/get/https://disk.yandex.ru/d/-xW2t5fsZIO_YA')\n",
    "cancellations.head()"
   ]
  },
  {
   "cell_type": "markdown",
   "id": "1c84d9f7",
   "metadata": {},
   "source": [
    "Проверим, в каком ретейлере наибольшее количество замен"
   ]
  },
  {
   "cell_type": "code",
   "execution_count": 22,
   "id": "da40dfd1",
   "metadata": {},
   "outputs": [],
   "source": [
    "orders_replace = orders_stores.merge(replacements, how = 'left', left_on = 'id_x', right_on = 'order_id'). \\\n",
    "                               merge(cancellations, how = 'left', left_on = 'id_x', right_on = 'order_id')"
   ]
  },
  {
   "cell_type": "code",
   "execution_count": 23,
   "id": "be8791a2",
   "metadata": {},
   "outputs": [
    {
     "data": {
      "text/html": [
       "<div>\n",
       "<style scoped>\n",
       "    .dataframe tbody tr th:only-of-type {\n",
       "        vertical-align: middle;\n",
       "    }\n",
       "\n",
       "    .dataframe tbody tr th {\n",
       "        vertical-align: top;\n",
       "    }\n",
       "\n",
       "    .dataframe thead th {\n",
       "        text-align: right;\n",
       "    }\n",
       "</style>\n",
       "<table border=\"1\" class=\"dataframe\">\n",
       "  <thead>\n",
       "    <tr style=\"text-align: right;\">\n",
       "      <th></th>\n",
       "      <th>orders_id</th>\n",
       "      <th>user_id</th>\n",
       "      <th>total_cost</th>\n",
       "      <th>cost</th>\n",
       "      <th>item_total</th>\n",
       "      <th>promo_total</th>\n",
       "      <th>total_weight</th>\n",
       "      <th>total_quantity</th>\n",
       "      <th>state_x</th>\n",
       "      <th>shipped_at</th>\n",
       "      <th>...</th>\n",
       "      <th>deliv_time</th>\n",
       "      <th>id_y</th>\n",
       "      <th>city</th>\n",
       "      <th>retailer_id</th>\n",
       "      <th>order_id_x</th>\n",
       "      <th>item_id_x</th>\n",
       "      <th>replace</th>\n",
       "      <th>order_id_y</th>\n",
       "      <th>item_id_y</th>\n",
       "      <th>cancel</th>\n",
       "    </tr>\n",
       "  </thead>\n",
       "  <tbody>\n",
       "    <tr>\n",
       "      <th>0</th>\n",
       "      <td>756927</td>\n",
       "      <td>139676</td>\n",
       "      <td>0.0</td>\n",
       "      <td>0.0</td>\n",
       "      <td>5015</td>\n",
       "      <td>0.0</td>\n",
       "      <td>37708</td>\n",
       "      <td>39</td>\n",
       "      <td>shipped</td>\n",
       "      <td>2018-08-26 15:01:42</td>\n",
       "      <td>...</td>\n",
       "      <td>12.0</td>\n",
       "      <td>1</td>\n",
       "      <td>1</td>\n",
       "      <td>1</td>\n",
       "      <td>NaN</td>\n",
       "      <td>NaN</td>\n",
       "      <td>NaN</td>\n",
       "      <td>756927.0</td>\n",
       "      <td>9447969.0</td>\n",
       "      <td>canceled</td>\n",
       "    </tr>\n",
       "    <tr>\n",
       "      <th>1</th>\n",
       "      <td>756927</td>\n",
       "      <td>139676</td>\n",
       "      <td>0.0</td>\n",
       "      <td>0.0</td>\n",
       "      <td>5015</td>\n",
       "      <td>0.0</td>\n",
       "      <td>37708</td>\n",
       "      <td>39</td>\n",
       "      <td>shipped</td>\n",
       "      <td>2018-08-26 15:01:42</td>\n",
       "      <td>...</td>\n",
       "      <td>12.0</td>\n",
       "      <td>1</td>\n",
       "      <td>1</td>\n",
       "      <td>1</td>\n",
       "      <td>NaN</td>\n",
       "      <td>NaN</td>\n",
       "      <td>NaN</td>\n",
       "      <td>756927.0</td>\n",
       "      <td>9447940.0</td>\n",
       "      <td>canceled</td>\n",
       "    </tr>\n",
       "    <tr>\n",
       "      <th>2</th>\n",
       "      <td>756927</td>\n",
       "      <td>139676</td>\n",
       "      <td>0.0</td>\n",
       "      <td>0.0</td>\n",
       "      <td>5015</td>\n",
       "      <td>0.0</td>\n",
       "      <td>37708</td>\n",
       "      <td>39</td>\n",
       "      <td>shipped</td>\n",
       "      <td>2018-08-26 15:01:42</td>\n",
       "      <td>...</td>\n",
       "      <td>12.0</td>\n",
       "      <td>1</td>\n",
       "      <td>1</td>\n",
       "      <td>1</td>\n",
       "      <td>NaN</td>\n",
       "      <td>NaN</td>\n",
       "      <td>NaN</td>\n",
       "      <td>756927.0</td>\n",
       "      <td>9447920.0</td>\n",
       "      <td>canceled</td>\n",
       "    </tr>\n",
       "    <tr>\n",
       "      <th>3</th>\n",
       "      <td>756927</td>\n",
       "      <td>139676</td>\n",
       "      <td>0.0</td>\n",
       "      <td>0.0</td>\n",
       "      <td>5015</td>\n",
       "      <td>0.0</td>\n",
       "      <td>37708</td>\n",
       "      <td>39</td>\n",
       "      <td>shipped</td>\n",
       "      <td>2018-08-26 15:01:42</td>\n",
       "      <td>...</td>\n",
       "      <td>12.0</td>\n",
       "      <td>1</td>\n",
       "      <td>1</td>\n",
       "      <td>1</td>\n",
       "      <td>NaN</td>\n",
       "      <td>NaN</td>\n",
       "      <td>NaN</td>\n",
       "      <td>756927.0</td>\n",
       "      <td>9447558.0</td>\n",
       "      <td>canceled</td>\n",
       "    </tr>\n",
       "    <tr>\n",
       "      <th>4</th>\n",
       "      <td>756927</td>\n",
       "      <td>139676</td>\n",
       "      <td>0.0</td>\n",
       "      <td>0.0</td>\n",
       "      <td>5015</td>\n",
       "      <td>0.0</td>\n",
       "      <td>37708</td>\n",
       "      <td>39</td>\n",
       "      <td>shipped</td>\n",
       "      <td>2018-08-26 15:01:42</td>\n",
       "      <td>...</td>\n",
       "      <td>12.0</td>\n",
       "      <td>1</td>\n",
       "      <td>1</td>\n",
       "      <td>1</td>\n",
       "      <td>NaN</td>\n",
       "      <td>NaN</td>\n",
       "      <td>NaN</td>\n",
       "      <td>756927.0</td>\n",
       "      <td>9447901.0</td>\n",
       "      <td>canceled</td>\n",
       "    </tr>\n",
       "  </tbody>\n",
       "</table>\n",
       "<p>5 rows × 24 columns</p>\n",
       "</div>"
      ],
      "text/plain": [
       "   orders_id  user_id  total_cost  cost  item_total  promo_total  \\\n",
       "0     756927   139676         0.0   0.0        5015          0.0   \n",
       "1     756927   139676         0.0   0.0        5015          0.0   \n",
       "2     756927   139676         0.0   0.0        5015          0.0   \n",
       "3     756927   139676         0.0   0.0        5015          0.0   \n",
       "4     756927   139676         0.0   0.0        5015          0.0   \n",
       "\n",
       "   total_weight  total_quantity  state_x          shipped_at  ... deliv_time  \\\n",
       "0         37708              39  shipped 2018-08-26 15:01:42  ...       12.0   \n",
       "1         37708              39  shipped 2018-08-26 15:01:42  ...       12.0   \n",
       "2         37708              39  shipped 2018-08-26 15:01:42  ...       12.0   \n",
       "3         37708              39  shipped 2018-08-26 15:01:42  ...       12.0   \n",
       "4         37708              39  shipped 2018-08-26 15:01:42  ...       12.0   \n",
       "\n",
       "   id_y  city  retailer_id  order_id_x  item_id_x  replace  order_id_y  \\\n",
       "0     1     1            1         NaN        NaN      NaN    756927.0   \n",
       "1     1     1            1         NaN        NaN      NaN    756927.0   \n",
       "2     1     1            1         NaN        NaN      NaN    756927.0   \n",
       "3     1     1            1         NaN        NaN      NaN    756927.0   \n",
       "4     1     1            1         NaN        NaN      NaN    756927.0   \n",
       "\n",
       "   item_id_y    cancel  \n",
       "0  9447969.0  canceled  \n",
       "1  9447940.0  canceled  \n",
       "2  9447920.0  canceled  \n",
       "3  9447558.0  canceled  \n",
       "4  9447901.0  canceled  \n",
       "\n",
       "[5 rows x 24 columns]"
      ]
     },
     "execution_count": 23,
     "metadata": {},
     "output_type": "execute_result"
    }
   ],
   "source": [
    "orders_replace = orders_replace.rename(columns={'id_x': 'orders_id', 'state_y': 'replace', 'state': 'cancel'})\n",
    "orders_replace.head()"
   ]
  },
  {
   "cell_type": "code",
   "execution_count": 24,
   "id": "f04ac234",
   "metadata": {},
   "outputs": [
    {
     "data": {
      "text/html": [
       "<div>\n",
       "<style scoped>\n",
       "    .dataframe tbody tr th:only-of-type {\n",
       "        vertical-align: middle;\n",
       "    }\n",
       "\n",
       "    .dataframe tbody tr th {\n",
       "        vertical-align: top;\n",
       "    }\n",
       "\n",
       "    .dataframe thead th {\n",
       "        text-align: right;\n",
       "    }\n",
       "</style>\n",
       "<table border=\"1\" class=\"dataframe\">\n",
       "  <thead>\n",
       "    <tr style=\"text-align: right;\">\n",
       "      <th></th>\n",
       "      <th>retailer_id</th>\n",
       "      <th>replace</th>\n",
       "      <th>cancel</th>\n",
       "    </tr>\n",
       "  </thead>\n",
       "  <tbody>\n",
       "    <tr>\n",
       "      <th>0</th>\n",
       "      <td>1</td>\n",
       "      <td>2543443</td>\n",
       "      <td>2725007</td>\n",
       "    </tr>\n",
       "    <tr>\n",
       "      <th>1</th>\n",
       "      <td>8</td>\n",
       "      <td>296960</td>\n",
       "      <td>293303</td>\n",
       "    </tr>\n",
       "    <tr>\n",
       "      <th>2</th>\n",
       "      <td>15</td>\n",
       "      <td>456641</td>\n",
       "      <td>453277</td>\n",
       "    </tr>\n",
       "    <tr>\n",
       "      <th>3</th>\n",
       "      <td>16</td>\n",
       "      <td>2594</td>\n",
       "      <td>3179</td>\n",
       "    </tr>\n",
       "  </tbody>\n",
       "</table>\n",
       "</div>"
      ],
      "text/plain": [
       "   retailer_id  replace   cancel\n",
       "0            1  2543443  2725007\n",
       "1            8   296960   293303\n",
       "2           15   456641   453277\n",
       "3           16     2594     3179"
      ]
     },
     "execution_count": 24,
     "metadata": {},
     "output_type": "execute_result"
    }
   ],
   "source": [
    "orders_replace.query('replace == \"replaced\" or cancel == \"canceled\"').groupby('retailer_id', as_index=False). \\\n",
    "                                                                     agg({'replace': 'count', 'cancel': 'count'})"
   ]
  },
  {
   "cell_type": "code",
   "execution_count": 25,
   "id": "33b4d8a5",
   "metadata": {},
   "outputs": [
    {
     "data": {
      "text/html": [
       "<div>\n",
       "<style scoped>\n",
       "    .dataframe tbody tr th:only-of-type {\n",
       "        vertical-align: middle;\n",
       "    }\n",
       "\n",
       "    .dataframe tbody tr th {\n",
       "        vertical-align: top;\n",
       "    }\n",
       "\n",
       "    .dataframe thead th {\n",
       "        text-align: right;\n",
       "    }\n",
       "</style>\n",
       "<table border=\"1\" class=\"dataframe\">\n",
       "  <thead>\n",
       "    <tr style=\"text-align: right;\">\n",
       "      <th></th>\n",
       "      <th>retailer_id</th>\n",
       "      <th>orders_count</th>\n",
       "    </tr>\n",
       "  </thead>\n",
       "  <tbody>\n",
       "    <tr>\n",
       "      <th>0</th>\n",
       "      <td>1</td>\n",
       "      <td>3089637</td>\n",
       "    </tr>\n",
       "    <tr>\n",
       "      <th>1</th>\n",
       "      <td>8</td>\n",
       "      <td>331442</td>\n",
       "    </tr>\n",
       "    <tr>\n",
       "      <th>2</th>\n",
       "      <td>15</td>\n",
       "      <td>484285</td>\n",
       "    </tr>\n",
       "    <tr>\n",
       "      <th>3</th>\n",
       "      <td>16</td>\n",
       "      <td>4638</td>\n",
       "    </tr>\n",
       "  </tbody>\n",
       "</table>\n",
       "</div>"
      ],
      "text/plain": [
       "   retailer_id  orders_count\n",
       "0            1       3089637\n",
       "1            8        331442\n",
       "2           15        484285\n",
       "3           16          4638"
      ]
     },
     "execution_count": 25,
     "metadata": {},
     "output_type": "execute_result"
    }
   ],
   "source": [
    "orders_replace.groupby('retailer_id', as_index=False).agg({'orders_id': 'count'}).rename(columns={'orders_id': 'orders_count'})"
   ]
  },
  {
   "cell_type": "markdown",
   "id": "469286f2",
   "metadata": {},
   "source": [
    "Т.к. ни один из ритейлеров не выделяется по заменам и отменам в заказах, то считаем, что проблема по заменам общая и не связана с обновлением ассортимента на сайте в конкретном ритейле и т.п. "
   ]
  },
  {
   "cell_type": "markdown",
   "id": "dc78ad7d",
   "metadata": {},
   "source": [
    "Посчитаем, какая доля пользователей не вернулась после отмен в первом же заказе"
   ]
  },
  {
   "cell_type": "markdown",
   "id": "01a6d3fa",
   "metadata": {},
   "source": [
    "Найдем количество пользователей, у которых был только один заказ и в нем была отмена"
   ]
  },
  {
   "cell_type": "code",
   "execution_count": 26,
   "id": "4e982115",
   "metadata": {},
   "outputs": [
    {
     "data": {
      "text/plain": [
       "17834"
      ]
     },
     "execution_count": 26,
     "metadata": {},
     "output_type": "execute_result"
    }
   ],
   "source": [
    "df_a = orders_replace.groupby('user_id', as_index=False).agg({'orders_id': 'count', 'cancel': 'count'}). \\\n",
    "                      query('orders_id == 1 and cancel > 0').user_id.count()\n",
    "df_a"
   ]
  },
  {
   "cell_type": "markdown",
   "id": "83df5a81",
   "metadata": {},
   "source": [
    "Найдем всех пользователей, у которых была отмена в первом заказе, независимо от того, вернулись они потом или нет\n",
    "\n",
    "Выберем все первые заказы"
   ]
  },
  {
   "cell_type": "code",
   "execution_count": 27,
   "id": "f42dd5c4",
   "metadata": {},
   "outputs": [],
   "source": [
    "df_b = orders_replace.groupby('user_id', as_index=False).agg({'created_at': 'min'}) "
   ]
  },
  {
   "cell_type": "markdown",
   "id": "984074ef",
   "metadata": {},
   "source": [
    "Объединим с первоначальным датафреймом, где были отмены"
   ]
  },
  {
   "cell_type": "code",
   "execution_count": 28,
   "id": "859b8b78",
   "metadata": {},
   "outputs": [],
   "source": [
    "df_first_canc=df_b.merge(orders_replace.query('cancel == \"canceled\"'), on = ['user_id', 'created_at'])"
   ]
  },
  {
   "cell_type": "code",
   "execution_count": 29,
   "id": "e22dbe3e",
   "metadata": {},
   "outputs": [],
   "source": [
    "df_c=df_first_canc.user_id.nunique()"
   ]
  },
  {
   "cell_type": "markdown",
   "id": "67a7636e",
   "metadata": {},
   "source": [
    "Теперь посчитаем долю невернувшихся"
   ]
  },
  {
   "cell_type": "code",
   "execution_count": 30,
   "id": "09241162",
   "metadata": {},
   "outputs": [
    {
     "data": {
      "text/plain": [
       "0.11660095848943111"
      ]
     },
     "execution_count": 30,
     "metadata": {},
     "output_type": "execute_result"
    }
   ],
   "source": [
    "churn_canc = df_a / df_c\n",
    "churn_canc"
   ]
  },
  {
   "cell_type": "markdown",
   "id": "c5071937",
   "metadata": {},
   "source": [
    "Посчитаем то же для замен в первом и единственном заказе"
   ]
  },
  {
   "cell_type": "code",
   "execution_count": 31,
   "id": "b91ce2b5",
   "metadata": {},
   "outputs": [
    {
     "data": {
      "text/plain": [
       "17379"
      ]
     },
     "execution_count": 31,
     "metadata": {},
     "output_type": "execute_result"
    }
   ],
   "source": [
    "df_d = orders_replace.groupby('user_id', as_index=False).agg({'orders_id': 'count', 'replace': 'count'}). \\\n",
    "                      query('orders_id == 1 and replace > 0').user_id.count()\n",
    "df_d"
   ]
  },
  {
   "cell_type": "markdown",
   "id": "2445dadd",
   "metadata": {},
   "source": [
    "Теперь найдем всех, у кого в первом заказе была отмена"
   ]
  },
  {
   "cell_type": "code",
   "execution_count": 32,
   "id": "19cf1f9b",
   "metadata": {},
   "outputs": [],
   "source": [
    "df_first_rep=df_b.merge(orders_replace.query('replace == \"replaced\"'), on = ['user_id', 'created_at'])"
   ]
  },
  {
   "cell_type": "code",
   "execution_count": 33,
   "id": "c5e66c21",
   "metadata": {},
   "outputs": [],
   "source": [
    "df_e=df_first_rep.user_id.nunique()"
   ]
  },
  {
   "cell_type": "code",
   "execution_count": 34,
   "id": "df508264",
   "metadata": {},
   "outputs": [
    {
     "data": {
      "text/plain": [
       "0.126449744612116"
      ]
     },
     "execution_count": 34,
     "metadata": {},
     "output_type": "execute_result"
    }
   ],
   "source": [
    "churn_replace = df_d / df_e\n",
    "churn_replace"
   ]
  },
  {
   "cell_type": "markdown",
   "id": "ed8a75ff",
   "metadata": {},
   "source": [
    "Сравним с долей не вернувшихся, у кого не было ни замен, ни отмен в первом заказе"
   ]
  },
  {
   "cell_type": "code",
   "execution_count": 35,
   "id": "64ec8fa0",
   "metadata": {},
   "outputs": [
    {
     "data": {
      "text/plain": [
       "39369"
      ]
     },
     "execution_count": 35,
     "metadata": {},
     "output_type": "execute_result"
    }
   ],
   "source": [
    "df_f = orders_replace.groupby('user_id', as_index=False).agg({'orders_id': 'count', 'replace': 'count', 'cancel': 'count'}). \\\n",
    "                      query('orders_id == 1 and replace == 0 and cancel == 0').user_id.count()\n",
    "df_f"
   ]
  },
  {
   "cell_type": "code",
   "execution_count": 37,
   "id": "8032ad2e",
   "metadata": {},
   "outputs": [],
   "source": [
    "df_first=df_b.merge(orders_replace.query('cancel != \"canceled\" and replace != \"replaced\"'), on = ['user_id', 'created_at'])"
   ]
  },
  {
   "cell_type": "code",
   "execution_count": 38,
   "id": "51038e48",
   "metadata": {},
   "outputs": [],
   "source": [
    "df_g=df_first.user_id.nunique()"
   ]
  },
  {
   "cell_type": "code",
   "execution_count": 39,
   "id": "f0b3b953",
   "metadata": {},
   "outputs": [
    {
     "data": {
      "text/plain": [
       "0.6384231180877631"
      ]
     },
     "execution_count": 39,
     "metadata": {},
     "output_type": "execute_result"
    }
   ],
   "source": [
    "churn = df_f / df_g\n",
    "churn"
   ]
  },
  {
   "cell_type": "markdown",
   "id": "caa238d2",
   "metadata": {},
   "source": [
    "Учитывая, что доля невернувшихся покупателей, у которых в первом заказе не было отмен и замен, даже выше, то не можем утверждать, что отмены и замены так сильно влияют на лояльность, несмотря на отзывы."
   ]
  },
  {
   "cell_type": "markdown",
   "id": "340856e9",
   "metadata": {},
   "source": [
    "___"
   ]
  },
  {
   "cell_type": "markdown",
   "id": "c29832b2",
   "metadata": {},
   "source": [
    "### Заказы в зависимости от дат"
   ]
  },
  {
   "cell_type": "markdown",
   "id": "67e9c261",
   "metadata": {},
   "source": [
    "Оценим период данных заказов"
   ]
  },
  {
   "cell_type": "code",
   "execution_count": 41,
   "id": "3cf5b6ca",
   "metadata": {},
   "outputs": [
    {
     "name": "stderr",
     "output_type": "stream",
     "text": [
      "<ipython-input-41-51049d042d1e>:1: FutureWarning: Treating datetime data as categorical rather than numeric in `.describe` is deprecated and will be removed in a future version of pandas. Specify `datetime_is_numeric=True` to silence this warning and adopt the future behavior now.\n",
      "  orders_replace.created_at.describe()\n"
     ]
    },
    {
     "data": {
      "text/plain": [
       "count                 3910002\n",
       "unique                 703953\n",
       "top       2019-10-16 13:26:20\n",
       "freq                     1649\n",
       "first     2018-08-26 00:05:41\n",
       "last      2019-12-18 18:02:41\n",
       "Name: created_at, dtype: object"
      ]
     },
     "execution_count": 41,
     "metadata": {},
     "output_type": "execute_result"
    }
   ],
   "source": [
    "orders_replace.created_at.describe()"
   ]
  },
  {
   "cell_type": "markdown",
   "id": "75fe3182",
   "metadata": {},
   "source": [
    "Учитывая, что в период входит целый год, посмотрим динамику заказов по месяцам"
   ]
  },
  {
   "cell_type": "code",
   "execution_count": 59,
   "id": "71794fa9",
   "metadata": {},
   "outputs": [],
   "source": [
    "orders['month']=orders.created_at.apply(lambda c: c.month)"
   ]
  },
  {
   "cell_type": "code",
   "execution_count": 67,
   "id": "65804893",
   "metadata": {},
   "outputs": [
    {
     "data": {
      "text/html": [
       "<div>\n",
       "<style scoped>\n",
       "    .dataframe tbody tr th:only-of-type {\n",
       "        vertical-align: middle;\n",
       "    }\n",
       "\n",
       "    .dataframe tbody tr th {\n",
       "        vertical-align: top;\n",
       "    }\n",
       "\n",
       "    .dataframe thead th {\n",
       "        text-align: right;\n",
       "    }\n",
       "</style>\n",
       "<table border=\"1\" class=\"dataframe\">\n",
       "  <thead>\n",
       "    <tr style=\"text-align: right;\">\n",
       "      <th></th>\n",
       "      <th>month</th>\n",
       "      <th>item_total</th>\n",
       "    </tr>\n",
       "  </thead>\n",
       "  <tbody>\n",
       "    <tr>\n",
       "      <th>0</th>\n",
       "      <td>1</td>\n",
       "      <td>92236652</td>\n",
       "    </tr>\n",
       "    <tr>\n",
       "      <th>1</th>\n",
       "      <td>2</td>\n",
       "      <td>85034033</td>\n",
       "    </tr>\n",
       "    <tr>\n",
       "      <th>2</th>\n",
       "      <td>3</td>\n",
       "      <td>95615010</td>\n",
       "    </tr>\n",
       "    <tr>\n",
       "      <th>3</th>\n",
       "      <td>4</td>\n",
       "      <td>119566545</td>\n",
       "    </tr>\n",
       "    <tr>\n",
       "      <th>4</th>\n",
       "      <td>5</td>\n",
       "      <td>147003564</td>\n",
       "    </tr>\n",
       "  </tbody>\n",
       "</table>\n",
       "</div>"
      ],
      "text/plain": [
       "   month  item_total\n",
       "0      1    92236652\n",
       "1      2    85034033\n",
       "2      3    95615010\n",
       "3      4   119566545\n",
       "4      5   147003564"
      ]
     },
     "execution_count": 67,
     "metadata": {},
     "output_type": "execute_result"
    }
   ],
   "source": [
    "df_month=orders.query('created_at > \"2018-12-18 18:02:41\"').groupby('month', as_index=False).agg({'item_total': 'sum'})\n",
    "df_month.head()"
   ]
  },
  {
   "cell_type": "code",
   "execution_count": 66,
   "id": "15a92159",
   "metadata": {},
   "outputs": [
    {
     "data": {
      "text/plain": [
       "<AxesSubplot:xlabel='month', ylabel='item_total'>"
      ]
     },
     "execution_count": 66,
     "metadata": {},
     "output_type": "execute_result"
    },
    {
     "data": {
      "image/png": "[encoded data removed]",
      "text/plain": [
       "<Figure size 432x288 with 1 Axes>"
      ]
     },
     "metadata": {
      "needs_background": "light"
     },
     "output_type": "display_data"
    }
   ],
   "source": [
    "sns.lineplot(x=\"month\", y=\"item_total\",\n",
    "             data=df_month)"
   ]
  },
  {
   "cell_type": "markdown",
   "id": "890cbcc4",
   "metadata": {},
   "source": [
    "Явный пик наблюдаем в ноябре, возможно связанный с черной пятницей"
   ]
  },
  {
   "cell_type": "markdown",
   "id": "5c97117f",
   "metadata": {},
   "source": [
    "Есть ли увеличение в канун праздников? Рассмотрим март и декабрь"
   ]
  },
  {
   "cell_type": "code",
   "execution_count": 77,
   "id": "185d8dda",
   "metadata": {},
   "outputs": [],
   "source": [
    "march=orders.query('month == 3').groupby('created_at', as_index=False).agg({'item_total': 'sum'})"
   ]
  },
  {
   "cell_type": "code",
   "execution_count": 78,
   "id": "ddb0dba7",
   "metadata": {},
   "outputs": [],
   "source": [
    "march.created_at=march.created_at.apply(lambda c: c.day)"
   ]
  },
  {
   "cell_type": "code",
   "execution_count": 81,
   "id": "be126676",
   "metadata": {},
   "outputs": [
    {
     "data": {
      "text/html": [
       "<div>\n",
       "<style scoped>\n",
       "    .dataframe tbody tr th:only-of-type {\n",
       "        vertical-align: middle;\n",
       "    }\n",
       "\n",
       "    .dataframe tbody tr th {\n",
       "        vertical-align: top;\n",
       "    }\n",
       "\n",
       "    .dataframe thead th {\n",
       "        text-align: right;\n",
       "    }\n",
       "</style>\n",
       "<table border=\"1\" class=\"dataframe\">\n",
       "  <thead>\n",
       "    <tr style=\"text-align: right;\">\n",
       "      <th></th>\n",
       "      <th>created_at</th>\n",
       "      <th>item_total</th>\n",
       "    </tr>\n",
       "  </thead>\n",
       "  <tbody>\n",
       "    <tr>\n",
       "      <th>4</th>\n",
       "      <td>5</td>\n",
       "      <td>3572548</td>\n",
       "    </tr>\n",
       "    <tr>\n",
       "      <th>14</th>\n",
       "      <td>15</td>\n",
       "      <td>3566342</td>\n",
       "    </tr>\n",
       "    <tr>\n",
       "      <th>3</th>\n",
       "      <td>4</td>\n",
       "      <td>3562909</td>\n",
       "    </tr>\n",
       "    <tr>\n",
       "      <th>5</th>\n",
       "      <td>6</td>\n",
       "      <td>3559815</td>\n",
       "    </tr>\n",
       "    <tr>\n",
       "      <th>6</th>\n",
       "      <td>7</td>\n",
       "      <td>3539247</td>\n",
       "    </tr>\n",
       "  </tbody>\n",
       "</table>\n",
       "</div>"
      ],
      "text/plain": [
       "    created_at  item_total\n",
       "4            5     3572548\n",
       "14          15     3566342\n",
       "3            4     3562909\n",
       "5            6     3559815\n",
       "6            7     3539247"
      ]
     },
     "execution_count": 81,
     "metadata": {},
     "output_type": "execute_result"
    }
   ],
   "source": [
    "march=march.groupby('created_at', as_index=False).agg({'item_total': 'sum'}).sort_values('item_total', ascending=False)\n",
    "march.head()"
   ]
  },
  {
   "cell_type": "code",
   "execution_count": 80,
   "id": "143e0248",
   "metadata": {},
   "outputs": [
    {
     "data": {
      "text/plain": [
       "<AxesSubplot:xlabel='created_at', ylabel='item_total'>"
      ]
     },
     "execution_count": 80,
     "metadata": {},
     "output_type": "execute_result"
    },
    {
     "data": {
      "image/png": "[encoded data removed]",
      "text/plain": [
       "<Figure size 432x288 with 1 Axes>"
      ]
     },
     "metadata": {
      "needs_background": "light"
     },
     "output_type": "display_data"
    }
   ],
   "source": [
    "sns.lineplot(x=\"created_at\", y=\"item_total\",\n",
    "             data=march)"
   ]
  },
  {
   "cell_type": "markdown",
   "id": "b658d934",
   "metadata": {},
   "source": [
    "Прирост выручки перед 8 Марта наблюдается, но пики не сильно выше, чем в другие удачные дни. Так что, возможно, стоит усилить акционную деятельность перед праздником"
   ]
  },
  {
   "cell_type": "code",
   "execution_count": 82,
   "id": "3324cf67",
   "metadata": {},
   "outputs": [],
   "source": [
    "dec=orders.query('month == 12').groupby('created_at', as_index=False).agg({'item_total': 'sum'})"
   ]
  },
  {
   "cell_type": "code",
   "execution_count": 84,
   "id": "cc1ee4d3",
   "metadata": {},
   "outputs": [],
   "source": [
    "dec.created_at=dec.created_at.apply(lambda c: c.day)"
   ]
  },
  {
   "cell_type": "code",
   "execution_count": 85,
   "id": "ccda2ffa",
   "metadata": {},
   "outputs": [
    {
     "data": {
      "text/html": [
       "<div>\n",
       "<style scoped>\n",
       "    .dataframe tbody tr th:only-of-type {\n",
       "        vertical-align: middle;\n",
       "    }\n",
       "\n",
       "    .dataframe tbody tr th {\n",
       "        vertical-align: top;\n",
       "    }\n",
       "\n",
       "    .dataframe thead th {\n",
       "        text-align: right;\n",
       "    }\n",
       "</style>\n",
       "<table border=\"1\" class=\"dataframe\">\n",
       "  <thead>\n",
       "    <tr style=\"text-align: right;\">\n",
       "      <th></th>\n",
       "      <th>created_at</th>\n",
       "      <th>item_total</th>\n",
       "    </tr>\n",
       "  </thead>\n",
       "  <tbody>\n",
       "    <tr>\n",
       "      <th>10</th>\n",
       "      <td>11</td>\n",
       "      <td>36639007</td>\n",
       "    </tr>\n",
       "    <tr>\n",
       "      <th>11</th>\n",
       "      <td>12</td>\n",
       "      <td>36286288</td>\n",
       "    </tr>\n",
       "    <tr>\n",
       "      <th>8</th>\n",
       "      <td>9</td>\n",
       "      <td>35392841</td>\n",
       "    </tr>\n",
       "    <tr>\n",
       "      <th>9</th>\n",
       "      <td>10</td>\n",
       "      <td>35132118</td>\n",
       "    </tr>\n",
       "    <tr>\n",
       "      <th>5</th>\n",
       "      <td>6</td>\n",
       "      <td>33535919</td>\n",
       "    </tr>\n",
       "  </tbody>\n",
       "</table>\n",
       "</div>"
      ],
      "text/plain": [
       "    created_at  item_total\n",
       "10          11    36639007\n",
       "11          12    36286288\n",
       "8            9    35392841\n",
       "9           10    35132118\n",
       "5            6    33535919"
      ]
     },
     "execution_count": 85,
     "metadata": {},
     "output_type": "execute_result"
    }
   ],
   "source": [
    "dec=dec.groupby('created_at', as_index=False).agg({'item_total': 'sum'}).sort_values('item_total', ascending=False)\n",
    "dec.head()"
   ]
  },
  {
   "cell_type": "code",
   "execution_count": 86,
   "id": "abb34670",
   "metadata": {},
   "outputs": [
    {
     "data": {
      "text/plain": [
       "<AxesSubplot:xlabel='created_at', ylabel='item_total'>"
      ]
     },
     "execution_count": 86,
     "metadata": {},
     "output_type": "execute_result"
    },
    {
     "data": {
      "image/png": "[encoded data removed]",
      "text/plain": [
       "<Figure size 432x288 with 1 Axes>"
      ]
     },
     "metadata": {
      "needs_background": "light"
     },
     "output_type": "display_data"
    }
   ],
   "source": [
    "sns.lineplot(x=\"created_at\", y=\"item_total\",\n",
    "             data=dec)"
   ]
  },
  {
   "cell_type": "markdown",
   "id": "09c7ae50",
   "metadata": {},
   "source": [
    "В конце декабря наблюдается спад заказов, что выглядит аномально. Необходимо сравнить с другими годами - типично ли такое поведение покупателей. Возможно стоит усилить рекламу и акции непосредственно перед НГ "
   ]
  },
  {
   "cell_type": "markdown",
   "id": "c588b62b",
   "metadata": {},
   "source": [
    "___"
   ]
  },
  {
   "cell_type": "markdown",
   "id": "c02c94f3",
   "metadata": {},
   "source": [
    "### Найдем ТОП-10 покупателей по выручке"
   ]
  },
  {
   "cell_type": "code",
   "execution_count": 88,
   "id": "5370a338",
   "metadata": {},
   "outputs": [
    {
     "data": {
      "text/html": [
       "<div>\n",
       "<style scoped>\n",
       "    .dataframe tbody tr th:only-of-type {\n",
       "        vertical-align: middle;\n",
       "    }\n",
       "\n",
       "    .dataframe tbody tr th {\n",
       "        vertical-align: top;\n",
       "    }\n",
       "\n",
       "    .dataframe thead th {\n",
       "        text-align: right;\n",
       "    }\n",
       "</style>\n",
       "<table border=\"1\" class=\"dataframe\">\n",
       "  <thead>\n",
       "    <tr style=\"text-align: right;\">\n",
       "      <th></th>\n",
       "      <th>user_id</th>\n",
       "      <th>item_total</th>\n",
       "    </tr>\n",
       "  </thead>\n",
       "  <tbody>\n",
       "    <tr>\n",
       "      <th>3400</th>\n",
       "      <td>32490</td>\n",
       "      <td>8510330</td>\n",
       "    </tr>\n",
       "    <tr>\n",
       "      <th>6525</th>\n",
       "      <td>56017</td>\n",
       "      <td>6583297</td>\n",
       "    </tr>\n",
       "    <tr>\n",
       "      <th>17186</th>\n",
       "      <td>129033</td>\n",
       "      <td>4016746</td>\n",
       "    </tr>\n",
       "    <tr>\n",
       "      <th>32873</th>\n",
       "      <td>171371</td>\n",
       "      <td>3912414</td>\n",
       "    </tr>\n",
       "    <tr>\n",
       "      <th>30293</th>\n",
       "      <td>165626</td>\n",
       "      <td>3886481</td>\n",
       "    </tr>\n",
       "    <tr>\n",
       "      <th>4537</th>\n",
       "      <td>42230</td>\n",
       "      <td>3655422</td>\n",
       "    </tr>\n",
       "    <tr>\n",
       "      <th>78002</th>\n",
       "      <td>314205</td>\n",
       "      <td>3643684</td>\n",
       "    </tr>\n",
       "    <tr>\n",
       "      <th>17485</th>\n",
       "      <td>130543</td>\n",
       "      <td>2661892</td>\n",
       "    </tr>\n",
       "    <tr>\n",
       "      <th>13144</th>\n",
       "      <td>106237</td>\n",
       "      <td>2302839</td>\n",
       "    </tr>\n",
       "    <tr>\n",
       "      <th>3262</th>\n",
       "      <td>31050</td>\n",
       "      <td>2224583</td>\n",
       "    </tr>\n",
       "  </tbody>\n",
       "</table>\n",
       "</div>"
      ],
      "text/plain": [
       "       user_id  item_total\n",
       "3400     32490     8510330\n",
       "6525     56017     6583297\n",
       "17186   129033     4016746\n",
       "32873   171371     3912414\n",
       "30293   165626     3886481\n",
       "4537     42230     3655422\n",
       "78002   314205     3643684\n",
       "17485   130543     2661892\n",
       "13144   106237     2302839\n",
       "3262     31050     2224583"
      ]
     },
     "execution_count": 88,
     "metadata": {},
     "output_type": "execute_result"
    }
   ],
   "source": [
    "orders.groupby('user_id', as_index=False).agg({'item_total': 'sum'}).sort_values('item_total', ascending=False).head(10)"
   ]
  },
  {
   "cell_type": "markdown",
   "id": "eb2335ae",
   "metadata": {},
   "source": [
    "### Найдем ТОП-10 покупателей по количеству сделанных заказов"
   ]
  },
  {
   "cell_type": "code",
   "execution_count": 90,
   "id": "79a691c2",
   "metadata": {},
   "outputs": [
    {
     "data": {
      "text/html": [
       "<div>\n",
       "<style scoped>\n",
       "    .dataframe tbody tr th:only-of-type {\n",
       "        vertical-align: middle;\n",
       "    }\n",
       "\n",
       "    .dataframe tbody tr th {\n",
       "        vertical-align: top;\n",
       "    }\n",
       "\n",
       "    .dataframe thead th {\n",
       "        text-align: right;\n",
       "    }\n",
       "</style>\n",
       "<table border=\"1\" class=\"dataframe\">\n",
       "  <thead>\n",
       "    <tr style=\"text-align: right;\">\n",
       "      <th></th>\n",
       "      <th>user_id</th>\n",
       "      <th>id</th>\n",
       "    </tr>\n",
       "  </thead>\n",
       "  <tbody>\n",
       "    <tr>\n",
       "      <th>6525</th>\n",
       "      <td>56017</td>\n",
       "      <td>493</td>\n",
       "    </tr>\n",
       "    <tr>\n",
       "      <th>17186</th>\n",
       "      <td>129033</td>\n",
       "      <td>427</td>\n",
       "    </tr>\n",
       "    <tr>\n",
       "      <th>2554</th>\n",
       "      <td>25097</td>\n",
       "      <td>422</td>\n",
       "    </tr>\n",
       "    <tr>\n",
       "      <th>48877</th>\n",
       "      <td>215536</td>\n",
       "      <td>405</td>\n",
       "    </tr>\n",
       "    <tr>\n",
       "      <th>4537</th>\n",
       "      <td>42230</td>\n",
       "      <td>243</td>\n",
       "    </tr>\n",
       "    <tr>\n",
       "      <th>78002</th>\n",
       "      <td>314205</td>\n",
       "      <td>237</td>\n",
       "    </tr>\n",
       "    <tr>\n",
       "      <th>51811</th>\n",
       "      <td>224255</td>\n",
       "      <td>230</td>\n",
       "    </tr>\n",
       "    <tr>\n",
       "      <th>75447</th>\n",
       "      <td>304851</td>\n",
       "      <td>219</td>\n",
       "    </tr>\n",
       "    <tr>\n",
       "      <th>31939</th>\n",
       "      <td>169167</td>\n",
       "      <td>217</td>\n",
       "    </tr>\n",
       "    <tr>\n",
       "      <th>17485</th>\n",
       "      <td>130543</td>\n",
       "      <td>213</td>\n",
       "    </tr>\n",
       "  </tbody>\n",
       "</table>\n",
       "</div>"
      ],
      "text/plain": [
       "       user_id   id\n",
       "6525     56017  493\n",
       "17186   129033  427\n",
       "2554     25097  422\n",
       "48877   215536  405\n",
       "4537     42230  243\n",
       "78002   314205  237\n",
       "51811   224255  230\n",
       "75447   304851  219\n",
       "31939   169167  217\n",
       "17485   130543  213"
      ]
     },
     "execution_count": 90,
     "metadata": {},
     "output_type": "execute_result"
    }
   ],
   "source": [
    "orders.groupby('user_id', as_index=False).agg({'id': 'count'}).sort_values('id', ascending=False).head(10)"
   ]
  },
  {
   "cell_type": "markdown",
   "id": "7985c7b6",
   "metadata": {},
   "source": [
    "Данных пользователей необходимо рассмотреть в первую очередь для предложения персональных скидок и подобных акций"
   ]
  },
  {
   "cell_type": "markdown",
   "id": "6ee5b262",
   "metadata": {},
   "source": [
    "## Выводы\n",
    "- Время доставки часто выше заявленного \"Привезем в тот же день\", что оказывает некоторое влияние на повторные покупки.\n",
    "- Нет видимых причин считать, что отмены и замены в заказах сильно влияют на отток клиентов, не смотря на отзывы.\n",
    "- Нет явного увеличения по заказам в канун 8 Марта и Нового Года (где есть даже аномальный спад), что может свидетельствовать о недостаточных рекламных компаниях и акциях.\n",
    "- ТОП покупателей по заказам и по выручке, возможно, стоит рассмотреть для предложения индивидуальных условий."
   ]
  },
  {
   "cell_type": "code",
   "execution_count": null,
   "id": "0b97cf49",
   "metadata": {},
   "outputs": [],
   "source": []
  }
 ],
 "metadata": {
  "kernelspec": {
   "display_name": "Python 3",
   "language": "python",
   "name": "python3"
  },
  "language_info": {
   "codemirror_mode": {
    "name": "ipython",
    "version": 3
   },
   "file_extension": ".py",
   "mimetype": "text/x-python",
   "name": "python",
   "nbconvert_exporter": "python",
   "pygments_lexer": "ipython3",
   "version": "3.8.8"
  }
 },
 "nbformat": 4,
 "nbformat_minor": 5
}
