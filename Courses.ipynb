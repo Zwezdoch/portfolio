{
 "cells": [
  {
   "cell_type": "markdown",
   "id": "3ce0e861",
   "metadata": {},
   "source": [
    "### 1. A/B–тестирование\n",
    "#### 1.1 Условие\n",
    "\n",
    "Одной из основных задач аналитика в нашей команде является корректное проведение экспериментов. Для этого мы применяем метод A/B–тестирования. В ходе тестирования одной гипотезы целевой группе была предложена новая механика оплаты услуг на сайте, у контрольной группы оставалась базовая механика. В качестве задания Вам необходимо проанализировать итоги эксперимента и сделать вывод, стоит ли запускать новую механику оплаты на всех пользователей.\n",
    "\n",
    "#### 1.2 Входные данные\n",
    "\n",
    "В качестве входных данных Вы имеете 4 csv-файла:\n",
    "\n",
    "groups.csv - файл с информацией о принадлежности пользователя к контрольной или экспериментальной группе (А – контроль, B – целевая группа) \n",
    "groups_add.csv - дополнительный файл с пользователями, который вам прислали спустя 2 дня после передачи данных\n",
    "active_studs.csv - файл с информацией о пользователях, которые зашли на платформу в дни проведения эксперимента. \n",
    "checks.csv - файл с информацией об оплатах пользователей в дни проведения эксперимента. \n",
    "1.3 Вопросы\n",
    "\n",
    "Предлагаем Вам ответить на следующие вопросы:\n",
    "\n",
    "На какие метрики Вы смотрите в ходе анализа и почему?\n",
    "Имеются ли различия в показателях и с чем они могут быть связаны?\n",
    "Являются ли эти различия статистически значимыми?\n",
    "Стоит ли запускать новую механику на всех пользователей?"
   ]
  },
  {
   "cell_type": "code",
   "execution_count": 1,
   "id": "74101323",
   "metadata": {},
   "outputs": [],
   "source": [
    "import numpy as np\n",
    "import pandas as pd\n",
    "import matplotlib.pyplot as plt\n",
    "from datetime import date\n",
    "import seaborn as sns\n",
    "from scipy import stats\n",
    "from scipy.stats import norm\n",
    "from tqdm.auto import tqdm\n",
    "\n",
    "plt.style.use('ggplot')"
   ]
  },
  {
   "cell_type": "code",
   "execution_count": 2,
   "id": "714339cd",
   "metadata": {},
   "outputs": [],
   "source": [
    "groups = pd.read_csv('https://getfile.dokpub.com/yandex/get/https://disk.yandex.ru/d/ptazHvJJLTvlKg', sep=';')"
   ]
  },
  {
   "cell_type": "code",
   "execution_count": 3,
   "id": "46696f5a",
   "metadata": {},
   "outputs": [],
   "source": [
    "group_add = pd.read_csv('https://getfile.dokpub.com/yandex/get/https://disk.yandex.ru/d/EIB_bq6m4EIA_g', sep=';')"
   ]
  },
  {
   "cell_type": "code",
   "execution_count": 4,
   "id": "57d95162",
   "metadata": {},
   "outputs": [],
   "source": [
    "checks = pd.read_csv('https://getfile.dokpub.com/yandex/get/https://disk.yandex.ru/d/XxzRVp8_-NyUcw', sep=';')"
   ]
  },
  {
   "cell_type": "code",
   "execution_count": 5,
   "id": "0f9c1104",
   "metadata": {},
   "outputs": [],
   "source": [
    "active_studs = pd.read_csv('https://getfile.dokpub.com/yandex/get/https://disk.yandex.ru/d/lOeoIDTGrukBbw')"
   ]
  },
  {
   "cell_type": "markdown",
   "id": "1bba9914",
   "metadata": {},
   "source": [
    "Оценим, что из себя представляют имеющиеся данные и их объём"
   ]
  },
  {
   "cell_type": "code",
   "execution_count": 6,
   "id": "17126666",
   "metadata": {},
   "outputs": [
    {
     "data": {
      "text/html": [
       "<div>\n",
       "<style scoped>\n",
       "    .dataframe tbody tr th:only-of-type {\n",
       "        vertical-align: middle;\n",
       "    }\n",
       "\n",
       "    .dataframe tbody tr th {\n",
       "        vertical-align: top;\n",
       "    }\n",
       "\n",
       "    .dataframe thead th {\n",
       "        text-align: right;\n",
       "    }\n",
       "</style>\n",
       "<table border=\"1\" class=\"dataframe\">\n",
       "  <thead>\n",
       "    <tr style=\"text-align: right;\">\n",
       "      <th></th>\n",
       "      <th>id</th>\n",
       "      <th>grp</th>\n",
       "    </tr>\n",
       "  </thead>\n",
       "  <tbody>\n",
       "    <tr>\n",
       "      <th>0</th>\n",
       "      <td>1489</td>\n",
       "      <td>B</td>\n",
       "    </tr>\n",
       "    <tr>\n",
       "      <th>1</th>\n",
       "      <td>1627</td>\n",
       "      <td>A</td>\n",
       "    </tr>\n",
       "    <tr>\n",
       "      <th>2</th>\n",
       "      <td>1768</td>\n",
       "      <td>B</td>\n",
       "    </tr>\n",
       "    <tr>\n",
       "      <th>3</th>\n",
       "      <td>1783</td>\n",
       "      <td>B</td>\n",
       "    </tr>\n",
       "    <tr>\n",
       "      <th>4</th>\n",
       "      <td>1794</td>\n",
       "      <td>A</td>\n",
       "    </tr>\n",
       "  </tbody>\n",
       "</table>\n",
       "</div>"
      ],
      "text/plain": [
       "     id grp\n",
       "0  1489   B\n",
       "1  1627   A\n",
       "2  1768   B\n",
       "3  1783   B\n",
       "4  1794   A"
      ]
     },
     "execution_count": 6,
     "metadata": {},
     "output_type": "execute_result"
    }
   ],
   "source": [
    "groups.head()"
   ]
  },
  {
   "cell_type": "code",
   "execution_count": 7,
   "id": "d23ea2ba",
   "metadata": {},
   "outputs": [
    {
     "data": {
      "text/plain": [
       "(74484, 2)"
      ]
     },
     "execution_count": 7,
     "metadata": {},
     "output_type": "execute_result"
    }
   ],
   "source": [
    "groups.shape"
   ]
  },
  {
   "cell_type": "code",
   "execution_count": 8,
   "id": "1e582d81",
   "metadata": {},
   "outputs": [
    {
     "data": {
      "text/plain": [
       "(14671, 2)"
      ]
     },
     "execution_count": 8,
     "metadata": {},
     "output_type": "execute_result"
    }
   ],
   "source": [
    "groups.query('grp == \"A\"').shape"
   ]
  },
  {
   "cell_type": "code",
   "execution_count": 9,
   "id": "eb6dc09f",
   "metadata": {},
   "outputs": [
    {
     "data": {
      "text/plain": [
       "(59813, 2)"
      ]
     },
     "execution_count": 9,
     "metadata": {},
     "output_type": "execute_result"
    }
   ],
   "source": [
    "groups.query('grp == \"B\"').shape"
   ]
  },
  {
   "cell_type": "code",
   "execution_count": 10,
   "id": "e4b9ca65",
   "metadata": {},
   "outputs": [
    {
     "data": {
      "text/html": [
       "<div>\n",
       "<style scoped>\n",
       "    .dataframe tbody tr th:only-of-type {\n",
       "        vertical-align: middle;\n",
       "    }\n",
       "\n",
       "    .dataframe tbody tr th {\n",
       "        vertical-align: top;\n",
       "    }\n",
       "\n",
       "    .dataframe thead th {\n",
       "        text-align: right;\n",
       "    }\n",
       "</style>\n",
       "<table border=\"1\" class=\"dataframe\">\n",
       "  <thead>\n",
       "    <tr style=\"text-align: right;\">\n",
       "      <th></th>\n",
       "      <th>id</th>\n",
       "      <th>grp</th>\n",
       "    </tr>\n",
       "  </thead>\n",
       "  <tbody>\n",
       "    <tr>\n",
       "      <th>0</th>\n",
       "      <td>5694584</td>\n",
       "      <td>B</td>\n",
       "    </tr>\n",
       "    <tr>\n",
       "      <th>1</th>\n",
       "      <td>5694830</td>\n",
       "      <td>B</td>\n",
       "    </tr>\n",
       "    <tr>\n",
       "      <th>2</th>\n",
       "      <td>5695057</td>\n",
       "      <td>B</td>\n",
       "    </tr>\n",
       "    <tr>\n",
       "      <th>3</th>\n",
       "      <td>5698872</td>\n",
       "      <td>B</td>\n",
       "    </tr>\n",
       "    <tr>\n",
       "      <th>4</th>\n",
       "      <td>5699067</td>\n",
       "      <td>B</td>\n",
       "    </tr>\n",
       "  </tbody>\n",
       "</table>\n",
       "</div>"
      ],
      "text/plain": [
       "        id grp\n",
       "0  5694584   B\n",
       "1  5694830   B\n",
       "2  5695057   B\n",
       "3  5698872   B\n",
       "4  5699067   B"
      ]
     },
     "execution_count": 10,
     "metadata": {},
     "output_type": "execute_result"
    }
   ],
   "source": [
    "group_add.head()"
   ]
  },
  {
   "cell_type": "code",
   "execution_count": 11,
   "id": "56bd7101",
   "metadata": {},
   "outputs": [
    {
     "data": {
      "text/plain": [
       "(92, 2)"
      ]
     },
     "execution_count": 11,
     "metadata": {},
     "output_type": "execute_result"
    }
   ],
   "source": [
    "group_add.shape"
   ]
  },
  {
   "cell_type": "code",
   "execution_count": 12,
   "id": "2895e53a",
   "metadata": {},
   "outputs": [
    {
     "data": {
      "text/plain": [
       "array(['B', 'A'], dtype=object)"
      ]
     },
     "execution_count": 12,
     "metadata": {},
     "output_type": "execute_result"
    }
   ],
   "source": [
    "group_add.grp.unique()"
   ]
  },
  {
   "cell_type": "code",
   "execution_count": 13,
   "id": "5f5d96e2",
   "metadata": {},
   "outputs": [
    {
     "data": {
      "text/plain": [
       "(22, 2)"
      ]
     },
     "execution_count": 13,
     "metadata": {},
     "output_type": "execute_result"
    }
   ],
   "source": [
    "group_add.query('grp == \"A\"').shape"
   ]
  },
  {
   "cell_type": "code",
   "execution_count": 14,
   "id": "40f0e1b8",
   "metadata": {},
   "outputs": [
    {
     "data": {
      "text/html": [
       "<div>\n",
       "<style scoped>\n",
       "    .dataframe tbody tr th:only-of-type {\n",
       "        vertical-align: middle;\n",
       "    }\n",
       "\n",
       "    .dataframe tbody tr th {\n",
       "        vertical-align: top;\n",
       "    }\n",
       "\n",
       "    .dataframe thead th {\n",
       "        text-align: right;\n",
       "    }\n",
       "</style>\n",
       "<table border=\"1\" class=\"dataframe\">\n",
       "  <thead>\n",
       "    <tr style=\"text-align: right;\">\n",
       "      <th></th>\n",
       "      <th>student_id</th>\n",
       "    </tr>\n",
       "  </thead>\n",
       "  <tbody>\n",
       "    <tr>\n",
       "      <th>0</th>\n",
       "      <td>581585</td>\n",
       "    </tr>\n",
       "    <tr>\n",
       "      <th>1</th>\n",
       "      <td>5723133</td>\n",
       "    </tr>\n",
       "    <tr>\n",
       "      <th>2</th>\n",
       "      <td>3276743</td>\n",
       "    </tr>\n",
       "    <tr>\n",
       "      <th>3</th>\n",
       "      <td>4238589</td>\n",
       "    </tr>\n",
       "    <tr>\n",
       "      <th>4</th>\n",
       "      <td>4475369</td>\n",
       "    </tr>\n",
       "  </tbody>\n",
       "</table>\n",
       "</div>"
      ],
      "text/plain": [
       "   student_id\n",
       "0      581585\n",
       "1     5723133\n",
       "2     3276743\n",
       "3     4238589\n",
       "4     4475369"
      ]
     },
     "execution_count": 14,
     "metadata": {},
     "output_type": "execute_result"
    }
   ],
   "source": [
    "active_studs.head()"
   ]
  },
  {
   "cell_type": "code",
   "execution_count": 15,
   "id": "eaa7f1a3",
   "metadata": {},
   "outputs": [
    {
     "data": {
      "text/plain": [
       "(8341, 1)"
      ]
     },
     "execution_count": 15,
     "metadata": {},
     "output_type": "execute_result"
    }
   ],
   "source": [
    "active_studs.shape"
   ]
  },
  {
   "cell_type": "markdown",
   "id": "4e11deb7",
   "metadata": {},
   "source": [
    "Проверим, были ли повторные посещения"
   ]
  },
  {
   "cell_type": "code",
   "execution_count": 16,
   "id": "39a80463",
   "metadata": {},
   "outputs": [
    {
     "data": {
      "text/plain": [
       "8341"
      ]
     },
     "execution_count": 16,
     "metadata": {},
     "output_type": "execute_result"
    }
   ],
   "source": [
    "active_studs.student_id.nunique()"
   ]
  },
  {
   "cell_type": "code",
   "execution_count": 17,
   "id": "8c13b853",
   "metadata": {},
   "outputs": [
    {
     "data": {
      "text/html": [
       "<div>\n",
       "<style scoped>\n",
       "    .dataframe tbody tr th:only-of-type {\n",
       "        vertical-align: middle;\n",
       "    }\n",
       "\n",
       "    .dataframe tbody tr th {\n",
       "        vertical-align: top;\n",
       "    }\n",
       "\n",
       "    .dataframe thead th {\n",
       "        text-align: right;\n",
       "    }\n",
       "</style>\n",
       "<table border=\"1\" class=\"dataframe\">\n",
       "  <thead>\n",
       "    <tr style=\"text-align: right;\">\n",
       "      <th></th>\n",
       "      <th>student_id</th>\n",
       "      <th>rev</th>\n",
       "    </tr>\n",
       "  </thead>\n",
       "  <tbody>\n",
       "    <tr>\n",
       "      <th>0</th>\n",
       "      <td>1627</td>\n",
       "      <td>990.0</td>\n",
       "    </tr>\n",
       "    <tr>\n",
       "      <th>1</th>\n",
       "      <td>3185</td>\n",
       "      <td>690.0</td>\n",
       "    </tr>\n",
       "    <tr>\n",
       "      <th>2</th>\n",
       "      <td>25973</td>\n",
       "      <td>690.0</td>\n",
       "    </tr>\n",
       "    <tr>\n",
       "      <th>3</th>\n",
       "      <td>26280</td>\n",
       "      <td>690.0</td>\n",
       "    </tr>\n",
       "    <tr>\n",
       "      <th>4</th>\n",
       "      <td>100300</td>\n",
       "      <td>990.0</td>\n",
       "    </tr>\n",
       "  </tbody>\n",
       "</table>\n",
       "</div>"
      ],
      "text/plain": [
       "   student_id    rev\n",
       "0        1627  990.0\n",
       "1        3185  690.0\n",
       "2       25973  690.0\n",
       "3       26280  690.0\n",
       "4      100300  990.0"
      ]
     },
     "execution_count": 17,
     "metadata": {},
     "output_type": "execute_result"
    }
   ],
   "source": [
    "checks.head()"
   ]
  },
  {
   "cell_type": "code",
   "execution_count": 18,
   "id": "d7cf6f19",
   "metadata": {},
   "outputs": [
    {
     "data": {
      "text/plain": [
       "(541, 2)"
      ]
     },
     "execution_count": 18,
     "metadata": {},
     "output_type": "execute_result"
    }
   ],
   "source": [
    "checks.shape"
   ]
  },
  {
   "cell_type": "markdown",
   "id": "64c88c4f",
   "metadata": {},
   "source": [
    "Проверим, были ли повторные покупки"
   ]
  },
  {
   "cell_type": "code",
   "execution_count": 19,
   "id": "d5e6528e",
   "metadata": {},
   "outputs": [
    {
     "data": {
      "text/plain": [
       "541"
      ]
     },
     "execution_count": 19,
     "metadata": {},
     "output_type": "execute_result"
    }
   ],
   "source": [
    "checks.student_id.nunique()"
   ]
  },
  {
   "cell_type": "markdown",
   "id": "757006aa",
   "metadata": {},
   "source": [
    "Объединим пользователей, разбитых на группы"
   ]
  },
  {
   "cell_type": "code",
   "execution_count": 20,
   "id": "e1b78dba",
   "metadata": {},
   "outputs": [],
   "source": [
    "groups_all = groups.append(group_add)"
   ]
  },
  {
   "cell_type": "code",
   "execution_count": 21,
   "id": "9c27b319",
   "metadata": {},
   "outputs": [
    {
     "data": {
      "text/plain": [
       "(74576, 2)"
      ]
     },
     "execution_count": 21,
     "metadata": {},
     "output_type": "execute_result"
    }
   ],
   "source": [
    "groups_all.shape"
   ]
  },
  {
   "cell_type": "code",
   "execution_count": 22,
   "id": "d7f3835d",
   "metadata": {},
   "outputs": [
    {
     "data": {
      "text/plain": [
       "74576"
      ]
     },
     "execution_count": 22,
     "metadata": {},
     "output_type": "execute_result"
    }
   ],
   "source": [
    "groups_all.id.nunique()"
   ]
  },
  {
   "cell_type": "markdown",
   "id": "d349823f",
   "metadata": {},
   "source": [
    "Добавим колонку о посещении в датафрейм пользователей, которые зашли во время эксперимента"
   ]
  },
  {
   "cell_type": "code",
   "execution_count": 23,
   "id": "4d623817",
   "metadata": {},
   "outputs": [
    {
     "data": {
      "text/html": [
       "<div>\n",
       "<style scoped>\n",
       "    .dataframe tbody tr th:only-of-type {\n",
       "        vertical-align: middle;\n",
       "    }\n",
       "\n",
       "    .dataframe tbody tr th {\n",
       "        vertical-align: top;\n",
       "    }\n",
       "\n",
       "    .dataframe thead th {\n",
       "        text-align: right;\n",
       "    }\n",
       "</style>\n",
       "<table border=\"1\" class=\"dataframe\">\n",
       "  <thead>\n",
       "    <tr style=\"text-align: right;\">\n",
       "      <th></th>\n",
       "      <th>student_id</th>\n",
       "      <th>visit</th>\n",
       "    </tr>\n",
       "  </thead>\n",
       "  <tbody>\n",
       "    <tr>\n",
       "      <th>0</th>\n",
       "      <td>581585</td>\n",
       "      <td>1</td>\n",
       "    </tr>\n",
       "    <tr>\n",
       "      <th>1</th>\n",
       "      <td>5723133</td>\n",
       "      <td>1</td>\n",
       "    </tr>\n",
       "    <tr>\n",
       "      <th>2</th>\n",
       "      <td>3276743</td>\n",
       "      <td>1</td>\n",
       "    </tr>\n",
       "    <tr>\n",
       "      <th>3</th>\n",
       "      <td>4238589</td>\n",
       "      <td>1</td>\n",
       "    </tr>\n",
       "    <tr>\n",
       "      <th>4</th>\n",
       "      <td>4475369</td>\n",
       "      <td>1</td>\n",
       "    </tr>\n",
       "  </tbody>\n",
       "</table>\n",
       "</div>"
      ],
      "text/plain": [
       "   student_id  visit\n",
       "0      581585      1\n",
       "1     5723133      1\n",
       "2     3276743      1\n",
       "3     4238589      1\n",
       "4     4475369      1"
      ]
     },
     "execution_count": 23,
     "metadata": {},
     "output_type": "execute_result"
    }
   ],
   "source": [
    "active_studs['visit'] = 1\n",
    "active_studs.head()"
   ]
  },
  {
   "cell_type": "markdown",
   "id": "eeae0e43",
   "metadata": {},
   "source": [
    "Объединим данные о посещении пользователей с данными о покупках"
   ]
  },
  {
   "cell_type": "code",
   "execution_count": 24,
   "id": "f383b219",
   "metadata": {},
   "outputs": [],
   "source": [
    "active_checks = active_studs.merge(checks, how='outer', on='student_id').fillna(0)"
   ]
  },
  {
   "cell_type": "code",
   "execution_count": 25,
   "id": "0341b617",
   "metadata": {},
   "outputs": [
    {
     "data": {
      "text/html": [
       "<div>\n",
       "<style scoped>\n",
       "    .dataframe tbody tr th:only-of-type {\n",
       "        vertical-align: middle;\n",
       "    }\n",
       "\n",
       "    .dataframe tbody tr th {\n",
       "        vertical-align: top;\n",
       "    }\n",
       "\n",
       "    .dataframe thead th {\n",
       "        text-align: right;\n",
       "    }\n",
       "</style>\n",
       "<table border=\"1\" class=\"dataframe\">\n",
       "  <thead>\n",
       "    <tr style=\"text-align: right;\">\n",
       "      <th></th>\n",
       "      <th>student_id</th>\n",
       "      <th>visit</th>\n",
       "      <th>rev</th>\n",
       "    </tr>\n",
       "  </thead>\n",
       "  <tbody>\n",
       "    <tr>\n",
       "      <th>0</th>\n",
       "      <td>581585</td>\n",
       "      <td>1.0</td>\n",
       "      <td>0.0</td>\n",
       "    </tr>\n",
       "    <tr>\n",
       "      <th>1</th>\n",
       "      <td>5723133</td>\n",
       "      <td>1.0</td>\n",
       "      <td>0.0</td>\n",
       "    </tr>\n",
       "    <tr>\n",
       "      <th>2</th>\n",
       "      <td>3276743</td>\n",
       "      <td>1.0</td>\n",
       "      <td>0.0</td>\n",
       "    </tr>\n",
       "    <tr>\n",
       "      <th>3</th>\n",
       "      <td>4238589</td>\n",
       "      <td>1.0</td>\n",
       "      <td>0.0</td>\n",
       "    </tr>\n",
       "    <tr>\n",
       "      <th>4</th>\n",
       "      <td>4475369</td>\n",
       "      <td>1.0</td>\n",
       "      <td>0.0</td>\n",
       "    </tr>\n",
       "    <tr>\n",
       "      <th>...</th>\n",
       "      <td>...</td>\n",
       "      <td>...</td>\n",
       "      <td>...</td>\n",
       "    </tr>\n",
       "    <tr>\n",
       "      <th>8485</th>\n",
       "      <td>5291900</td>\n",
       "      <td>0.0</td>\n",
       "      <td>199.0</td>\n",
       "    </tr>\n",
       "    <tr>\n",
       "      <th>8486</th>\n",
       "      <td>5331842</td>\n",
       "      <td>0.0</td>\n",
       "      <td>290.0</td>\n",
       "    </tr>\n",
       "    <tr>\n",
       "      <th>8487</th>\n",
       "      <td>5486319</td>\n",
       "      <td>0.0</td>\n",
       "      <td>199.0</td>\n",
       "    </tr>\n",
       "    <tr>\n",
       "      <th>8488</th>\n",
       "      <td>5562806</td>\n",
       "      <td>0.0</td>\n",
       "      <td>398.0</td>\n",
       "    </tr>\n",
       "    <tr>\n",
       "      <th>8489</th>\n",
       "      <td>5599663</td>\n",
       "      <td>0.0</td>\n",
       "      <td>1900.0</td>\n",
       "    </tr>\n",
       "  </tbody>\n",
       "</table>\n",
       "<p>8490 rows × 3 columns</p>\n",
       "</div>"
      ],
      "text/plain": [
       "      student_id  visit     rev\n",
       "0         581585    1.0     0.0\n",
       "1        5723133    1.0     0.0\n",
       "2        3276743    1.0     0.0\n",
       "3        4238589    1.0     0.0\n",
       "4        4475369    1.0     0.0\n",
       "...          ...    ...     ...\n",
       "8485     5291900    0.0   199.0\n",
       "8486     5331842    0.0   290.0\n",
       "8487     5486319    0.0   199.0\n",
       "8488     5562806    0.0   398.0\n",
       "8489     5599663    0.0  1900.0\n",
       "\n",
       "[8490 rows x 3 columns]"
      ]
     },
     "execution_count": 25,
     "metadata": {},
     "output_type": "execute_result"
    }
   ],
   "source": [
    "active_checks"
   ]
  },
  {
   "cell_type": "markdown",
   "id": "7ed70797",
   "metadata": {},
   "source": [
    "Добавим разбивку на группы"
   ]
  },
  {
   "cell_type": "code",
   "execution_count": 26,
   "id": "ef024b24",
   "metadata": {},
   "outputs": [
    {
     "data": {
      "text/html": [
       "<div>\n",
       "<style scoped>\n",
       "    .dataframe tbody tr th:only-of-type {\n",
       "        vertical-align: middle;\n",
       "    }\n",
       "\n",
       "    .dataframe tbody tr th {\n",
       "        vertical-align: top;\n",
       "    }\n",
       "\n",
       "    .dataframe thead th {\n",
       "        text-align: right;\n",
       "    }\n",
       "</style>\n",
       "<table border=\"1\" class=\"dataframe\">\n",
       "  <thead>\n",
       "    <tr style=\"text-align: right;\">\n",
       "      <th></th>\n",
       "      <th>student_id</th>\n",
       "      <th>visit</th>\n",
       "      <th>rev</th>\n",
       "      <th>grp</th>\n",
       "    </tr>\n",
       "  </thead>\n",
       "  <tbody>\n",
       "    <tr>\n",
       "      <th>0</th>\n",
       "      <td>581585</td>\n",
       "      <td>1.0</td>\n",
       "      <td>0.0</td>\n",
       "      <td>A</td>\n",
       "    </tr>\n",
       "    <tr>\n",
       "      <th>1</th>\n",
       "      <td>5723133</td>\n",
       "      <td>1.0</td>\n",
       "      <td>0.0</td>\n",
       "      <td>A</td>\n",
       "    </tr>\n",
       "    <tr>\n",
       "      <th>2</th>\n",
       "      <td>3276743</td>\n",
       "      <td>1.0</td>\n",
       "      <td>0.0</td>\n",
       "      <td>B</td>\n",
       "    </tr>\n",
       "    <tr>\n",
       "      <th>3</th>\n",
       "      <td>4238589</td>\n",
       "      <td>1.0</td>\n",
       "      <td>0.0</td>\n",
       "      <td>A</td>\n",
       "    </tr>\n",
       "    <tr>\n",
       "      <th>4</th>\n",
       "      <td>4475369</td>\n",
       "      <td>1.0</td>\n",
       "      <td>0.0</td>\n",
       "      <td>B</td>\n",
       "    </tr>\n",
       "    <tr>\n",
       "      <th>...</th>\n",
       "      <td>...</td>\n",
       "      <td>...</td>\n",
       "      <td>...</td>\n",
       "      <td>...</td>\n",
       "    </tr>\n",
       "    <tr>\n",
       "      <th>8485</th>\n",
       "      <td>5291900</td>\n",
       "      <td>0.0</td>\n",
       "      <td>199.0</td>\n",
       "      <td>B</td>\n",
       "    </tr>\n",
       "    <tr>\n",
       "      <th>8486</th>\n",
       "      <td>5331842</td>\n",
       "      <td>0.0</td>\n",
       "      <td>290.0</td>\n",
       "      <td>B</td>\n",
       "    </tr>\n",
       "    <tr>\n",
       "      <th>8487</th>\n",
       "      <td>5486319</td>\n",
       "      <td>0.0</td>\n",
       "      <td>199.0</td>\n",
       "      <td>B</td>\n",
       "    </tr>\n",
       "    <tr>\n",
       "      <th>8488</th>\n",
       "      <td>5562806</td>\n",
       "      <td>0.0</td>\n",
       "      <td>398.0</td>\n",
       "      <td>B</td>\n",
       "    </tr>\n",
       "    <tr>\n",
       "      <th>8489</th>\n",
       "      <td>5599663</td>\n",
       "      <td>0.0</td>\n",
       "      <td>1900.0</td>\n",
       "      <td>B</td>\n",
       "    </tr>\n",
       "  </tbody>\n",
       "</table>\n",
       "<p>8490 rows × 4 columns</p>\n",
       "</div>"
      ],
      "text/plain": [
       "      student_id  visit     rev grp\n",
       "0         581585    1.0     0.0   A\n",
       "1        5723133    1.0     0.0   A\n",
       "2        3276743    1.0     0.0   B\n",
       "3        4238589    1.0     0.0   A\n",
       "4        4475369    1.0     0.0   B\n",
       "...          ...    ...     ...  ..\n",
       "8485     5291900    0.0   199.0   B\n",
       "8486     5331842    0.0   290.0   B\n",
       "8487     5486319    0.0   199.0   B\n",
       "8488     5562806    0.0   398.0   B\n",
       "8489     5599663    0.0  1900.0   B\n",
       "\n",
       "[8490 rows x 4 columns]"
      ]
     },
     "execution_count": 26,
     "metadata": {},
     "output_type": "execute_result"
    }
   ],
   "source": [
    "df = active_checks.merge(groups_all, how='left', left_on='student_id', right_on='id').drop(columns='id')\n",
    "df"
   ]
  },
  {
   "cell_type": "code",
   "execution_count": 27,
   "id": "9e544bc2",
   "metadata": {},
   "outputs": [
    {
     "data": {
      "text/plain": [
       "(149, 4)"
      ]
     },
     "execution_count": 27,
     "metadata": {},
     "output_type": "execute_result"
    }
   ],
   "source": [
    "df.query('visit==0').shape"
   ]
  },
  {
   "cell_type": "markdown",
   "id": "19ff1387",
   "metadata": {},
   "source": [
    "Т.к. в данных мы видим пользователей, которые зашли на сайт до эксперимента и совершил покупку, но не видим тех, которые зашли до, но покупку во время эксперимента не совершили, то будем учитывать только тех пользователей, которые зашли на сайт во время эксперимента"
   ]
  },
  {
   "cell_type": "code",
   "execution_count": 28,
   "id": "c65d11e0",
   "metadata": {},
   "outputs": [],
   "source": [
    "df = df.query('visit==1').drop(columns='visit')"
   ]
  },
  {
   "cell_type": "markdown",
   "id": "5de6322e",
   "metadata": {},
   "source": [
    "Оценим количество наблюдений в группах"
   ]
  },
  {
   "cell_type": "code",
   "execution_count": 29,
   "id": "dfa16522",
   "metadata": {},
   "outputs": [
    {
     "data": {
      "text/plain": [
       "(1538, 3)"
      ]
     },
     "execution_count": 29,
     "metadata": {},
     "output_type": "execute_result"
    }
   ],
   "source": [
    "df_A = df.query('grp==\"A\"')\n",
    "df_A.shape"
   ]
  },
  {
   "cell_type": "code",
   "execution_count": 30,
   "id": "08138781",
   "metadata": {},
   "outputs": [
    {
     "data": {
      "text/plain": [
       "(6803, 3)"
      ]
     },
     "execution_count": 30,
     "metadata": {},
     "output_type": "execute_result"
    }
   ],
   "source": [
    "df_B = df.query('grp==\"B\"')\n",
    "df_B.shape"
   ]
  },
  {
   "cell_type": "markdown",
   "id": "b1ed74f9",
   "metadata": {},
   "source": [
    "Рассмотрим такие метрики как конверсия в покупку и средний чек, в качестве основных показателей, отображающих успешность новой механики оплаты"
   ]
  },
  {
   "cell_type": "markdown",
   "id": "65820f32",
   "metadata": {},
   "source": [
    "Добавим в датафреймы такую колонку как конверсия"
   ]
  },
  {
   "cell_type": "code",
   "execution_count": 32,
   "id": "88e3b385",
   "metadata": {},
   "outputs": [],
   "source": [
    "df_A.loc[:,'cnv'] = df_A.rev.apply(lambda c: 1 if c > 0 else 0)"
   ]
  },
  {
   "cell_type": "code",
   "execution_count": 33,
   "id": "428e66d1",
   "metadata": {},
   "outputs": [
    {
     "data": {
      "text/plain": [
       "0    1460\n",
       "1      78\n",
       "Name: cnv, dtype: int64"
      ]
     },
     "execution_count": 33,
     "metadata": {},
     "output_type": "execute_result"
    }
   ],
   "source": [
    "cnv_A = df_A.cnv.value_counts()\n",
    "cnv_A"
   ]
  },
  {
   "cell_type": "code",
   "execution_count": 34,
   "id": "88772374",
   "metadata": {},
   "outputs": [],
   "source": [
    "df_B.loc[:,'cnv'] = df_B.rev.apply(lambda c: 1 if c > 0 else 0)"
   ]
  },
  {
   "cell_type": "code",
   "execution_count": 34,
   "id": "3c5391a9",
   "metadata": {},
   "outputs": [
    {
     "data": {
      "text/plain": [
       "0    6489\n",
       "1     314\n",
       "Name: cnv, dtype: int64"
      ]
     },
     "execution_count": 34,
     "metadata": {},
     "output_type": "execute_result"
    }
   ],
   "source": [
    "cnv_B = df_B.cnv.value_counts()\n",
    "cnv_B"
   ]
  },
  {
   "cell_type": "markdown",
   "id": "9b365d4e",
   "metadata": {},
   "source": [
    "Т.к. конверсии являются качественными независимыми переменными и рассматриваемых групп у нас две, то для оценки разницы конверсий будем использовать Хи-квадрат Пирсона. \n",
    "При сравнении на калькуляторе для А/В тестирования https://abtestguide.com/calc/ получен следующий результат: \"Наблюдаемая разница в коэффициенте конверсии (-8,99% ) недостаточно велика, чтобы объявить значимого победителя. Нет реальной разницы в производительности между A и B, или вам нужно собрать больше данных\"."
   ]
  },
  {
   "cell_type": "markdown",
   "id": "320e977a",
   "metadata": {},
   "source": [
    "Сравним средние чеки в выборках"
   ]
  },
  {
   "cell_type": "code",
   "execution_count": 35,
   "id": "ac7d288b",
   "metadata": {},
   "outputs": [
    {
     "data": {
      "text/plain": [
       "count    1538.000000\n",
       "mean       47.347204\n",
       "std       290.490632\n",
       "min         0.000000\n",
       "25%         0.000000\n",
       "50%         0.000000\n",
       "75%         0.000000\n",
       "max      3660.000000\n",
       "Name: rev, dtype: float64"
      ]
     },
     "execution_count": 35,
     "metadata": {},
     "output_type": "execute_result"
    }
   ],
   "source": [
    "df_A.rev.describe()"
   ]
  },
  {
   "cell_type": "code",
   "execution_count": 36,
   "id": "52c4673c",
   "metadata": {},
   "outputs": [
    {
     "data": {
      "text/plain": [
       "count    6803.000000\n",
       "mean       58.058798\n",
       "std       313.770201\n",
       "min         0.000000\n",
       "25%         0.000000\n",
       "50%         0.000000\n",
       "75%         0.000000\n",
       "max      4650.000000\n",
       "Name: rev, dtype: float64"
      ]
     },
     "execution_count": 36,
     "metadata": {},
     "output_type": "execute_result"
    }
   ],
   "source": [
    "df_B.rev.describe()"
   ]
  },
  {
   "cell_type": "markdown",
   "id": "7cf14774",
   "metadata": {},
   "source": [
    "Т.к. переменные являются количественными, сравним распределения с нормальным"
   ]
  },
  {
   "cell_type": "code",
   "execution_count": 37,
   "id": "febb77c9",
   "metadata": {},
   "outputs": [
    {
     "data": {
      "text/plain": [
       "ShapiroResult(statistic=0.1541670560836792, pvalue=0.0)"
      ]
     },
     "execution_count": 37,
     "metadata": {},
     "output_type": "execute_result"
    }
   ],
   "source": [
    "stats.shapiro(df_A.rev)"
   ]
  },
  {
   "cell_type": "markdown",
   "id": "65d0d166",
   "metadata": {},
   "source": [
    "Т.к. в первой же группе pvalue=0.0 и мы отклоняем гипотезу о нормальном распределение, а также обе выборки содержат более 1000 наблюдений и при наличии сильного дисбаланса в группах по количеству наблюдений критерий Манна-Уитни теряет свою мощность, поэтому применим бутстрап"
   ]
  },
  {
   "cell_type": "code",
   "execution_count": 38,
   "id": "1e59992b",
   "metadata": {},
   "outputs": [],
   "source": [
    "# Объявим функцию, которая позволит проверять гипотезы с помощью бутстрапа\n",
    "def get_bootstrap(\n",
    "    data_column_1,  # числовые значения первой выборки\n",
    "    data_column_2,  # числовые значения второй выборки\n",
    "    boot_it=1000,  # количество бутстрэп-подвыборок\n",
    "    statistic=np.mean,  # интересующая нас статистика\n",
    "    bootstrap_conf_level=0.95  # уровень значимости\n",
    "):\n",
    "    boot_len = max([len(data_column_1), len(data_column_2)])\n",
    "    boot_data = []\n",
    "    for i in tqdm(range(boot_it)):  # извлекаем подвыборки\n",
    "        samples_1 = data_column_1.sample(\n",
    "            boot_len, \n",
    "            replace=True  # параметр возвращения\n",
    "        ).values\n",
    "        \n",
    "        samples_2 = data_column_2.sample(\n",
    "            boot_len, \n",
    "            replace=True\n",
    "        ).values\n",
    "        \n",
    "        boot_data.append(statistic(samples_1 - samples_2)) \n",
    "        \n",
    "    pd_boot_data = pd.DataFrame(boot_data)\n",
    "        \n",
    "    left_quant = (1 - bootstrap_conf_level) / 2\n",
    "    right_quant = 1 - (1 - bootstrap_conf_level) / 2\n",
    "    ci = pd_boot_data.quantile([left_quant, right_quant])\n",
    "        \n",
    "    p_1 = norm.cdf(\n",
    "        x=0, \n",
    "        loc=np.mean(boot_data), \n",
    "        scale=np.std(boot_data)\n",
    "    )\n",
    "    p_2 = norm.cdf(\n",
    "        x=0, \n",
    "        loc=-np.mean(boot_data), \n",
    "        scale=np.std(boot_data)\n",
    "    )\n",
    "    p_value = min(p_1, p_2) * 2\n",
    "        \n",
    "    # Визуализация\n",
    "    plt.hist(pd_boot_data[0], bins=50)\n",
    "    \n",
    "    plt.style.use('ggplot')\n",
    "    plt.vlines(ci, ymin=0, ymax=50, linestyle='--')\n",
    "    plt.xlabel('boot_data')\n",
    "    plt.ylabel('frequency')\n",
    "    plt.title(\"Histogram of boot_data\")\n",
    "    plt.show()\n",
    "       \n",
    "    return {\"boot_data\": boot_data, \n",
    "            \"ci\": ci, \n",
    "            \"p_value\": p_value}"
   ]
  },
  {
   "cell_type": "code",
   "execution_count": 39,
   "id": "a48d0dc6",
   "metadata": {},
   "outputs": [
    {
     "data": {
      "application/vnd.jupyter.widget-view+json": {
       "model_id": "965f48bdf8844dbd9e4d8c0c01945404",
       "version_major": 2,
       "version_minor": 0
      },
      "text/plain": [
       "  0%|          | 0/2000 [00:00<?, ?it/s]"
      ]
     },
     "metadata": {},
     "output_type": "display_data"
    },
    {
     "data": {
      "image/png": "[encoded data removed]",
      "text/plain": [
       "<Figure size 432x288 with 1 Axes>"
      ]
     },
     "metadata": {},
     "output_type": "display_data"
    }
   ],
   "source": [
    "booted_data = get_bootstrap(df_A.query('cnv==1').rev, \n",
    "                            df_B.query('cnv==1').rev, boot_it=2000) \n",
    "# в результате хранится разница двух распределений, ДИ и pvalue"
   ]
  },
  {
   "cell_type": "code",
   "execution_count": 40,
   "id": "1495739d",
   "metadata": {},
   "outputs": [
    {
     "data": {
      "text/plain": [
       "2.673860852359632e-06"
      ]
     },
     "execution_count": 40,
     "metadata": {},
     "output_type": "execute_result"
    }
   ],
   "source": [
    "booted_data[\"p_value\"]"
   ]
  },
  {
   "cell_type": "code",
   "execution_count": 41,
   "id": "78fe4225",
   "metadata": {},
   "outputs": [
    {
     "data": {
      "text/html": [
       "<div>\n",
       "<style scoped>\n",
       "    .dataframe tbody tr th:only-of-type {\n",
       "        vertical-align: middle;\n",
       "    }\n",
       "\n",
       "    .dataframe tbody tr th {\n",
       "        vertical-align: top;\n",
       "    }\n",
       "\n",
       "    .dataframe thead th {\n",
       "        text-align: right;\n",
       "    }\n",
       "</style>\n",
       "<table border=\"1\" class=\"dataframe\">\n",
       "  <thead>\n",
       "    <tr style=\"text-align: right;\">\n",
       "      <th></th>\n",
       "      <th>0</th>\n",
       "    </tr>\n",
       "  </thead>\n",
       "  <tbody>\n",
       "    <tr>\n",
       "      <th>0.025</th>\n",
       "      <td>-451.627797</td>\n",
       "    </tr>\n",
       "    <tr>\n",
       "      <th>0.975</th>\n",
       "      <td>-183.753434</td>\n",
       "    </tr>\n",
       "  </tbody>\n",
       "</table>\n",
       "</div>"
      ],
      "text/plain": [
       "                0\n",
       "0.025 -451.627797\n",
       "0.975 -183.753434"
      ]
     },
     "execution_count": 41,
     "metadata": {},
     "output_type": "execute_result"
    }
   ],
   "source": [
    "booted_data[\"ci\"] "
   ]
  },
  {
   "cell_type": "markdown",
   "id": "b3dae6f7",
   "metadata": {},
   "source": [
    "Т.к. в доверительный интервал ноль не попал, а также p_value < 0,05, то принимаем гипотезу о том, что по среднему значению чеки различаются"
   ]
  },
  {
   "cell_type": "markdown",
   "id": "c388f0b4",
   "metadata": {},
   "source": [
    "Сравним медианы чеков в выборках"
   ]
  },
  {
   "cell_type": "code",
   "execution_count": 42,
   "id": "11c95d94",
   "metadata": {},
   "outputs": [],
   "source": [
    "def get_bootstrap_median(\n",
    "    data_column_1,  # числовые значения первой выборки\n",
    "    data_column_2,  # числовые значения второй выборки\n",
    "    boot_it=1000,  # количество бутстрэп-подвыборок\n",
    "    statistic=np.median,  # интересующая нас статистика\n",
    "    bootstrap_conf_level=0.95  # уровень значимости\n",
    "):\n",
    "    boot_len = max([len(data_column_1), len(data_column_2)])\n",
    "    boot_data = []\n",
    "    for i in tqdm(range(boot_it)):  # извлекаем подвыборки\n",
    "        samples_1 = data_column_1.sample(\n",
    "            boot_len, \n",
    "            replace=True  # параметр возвращения\n",
    "        ).values\n",
    "        \n",
    "        samples_2 = data_column_2.sample(\n",
    "            boot_len, \n",
    "            replace=True\n",
    "        ).values\n",
    "        \n",
    "        boot_data.append(statistic(samples_1 - samples_2))  # median() - применяем статистику\n",
    "        \n",
    "    pd_boot_data = pd.DataFrame(boot_data)\n",
    "        \n",
    "    left_quant = (1 - bootstrap_conf_level) / 2\n",
    "    right_quant = 1 - (1 - bootstrap_conf_level) / 2\n",
    "    ci = pd_boot_data.quantile([left_quant, right_quant])\n",
    "        \n",
    "    p_1 = norm.cdf(\n",
    "        x=0, \n",
    "        loc=np.mean(boot_data), \n",
    "        scale=np.std(boot_data)\n",
    "    )\n",
    "    p_2 = norm.cdf(\n",
    "        x=0, \n",
    "        loc=-np.mean(boot_data), \n",
    "        scale=np.std(boot_data)\n",
    "    )\n",
    "    p_value = min(p_1, p_2) * 2\n",
    "        \n",
    "    # Визуализация\n",
    "    plt.hist(pd_boot_data[0], bins=50)\n",
    "    \n",
    "    plt.style.use('ggplot')\n",
    "    plt.vlines(ci, ymin=0, ymax=50, linestyle='--')\n",
    "    plt.xlabel('boot_data')\n",
    "    plt.ylabel('frequency')\n",
    "    plt.title(\"Histogram of boot_data\")\n",
    "    plt.show()\n",
    "       \n",
    "    return {\"boot_data\": boot_data, \n",
    "            \"ci\": ci, \n",
    "            \"p_value\": p_value}"
   ]
  },
  {
   "cell_type": "code",
   "execution_count": 43,
   "id": "db11842b",
   "metadata": {},
   "outputs": [
    {
     "data": {
      "application/vnd.jupyter.widget-view+json": {
       "model_id": "55d52a3d7fca4388a40a5e406f921e01",
       "version_major": 2,
       "version_minor": 0
      },
      "text/plain": [
       "  0%|          | 0/2000 [00:00<?, ?it/s]"
      ]
     },
     "metadata": {},
     "output_type": "display_data"
    },
    {
     "data": {
      "image/png": "[encoded data removed]",
      "text/plain": [
       "<Figure size 432x288 with 1 Axes>"
      ]
     },
     "metadata": {},
     "output_type": "display_data"
    }
   ],
   "source": [
    "booted_data_median = get_bootstrap_median(df_A.query('cnv==1').rev, df_B.query('cnv==1').rev, boot_it=2000)"
   ]
  },
  {
   "cell_type": "code",
   "execution_count": 44,
   "id": "2dbf0de3",
   "metadata": {},
   "outputs": [
    {
     "data": {
      "text/plain": [
       "3.261804599014949e-05"
      ]
     },
     "execution_count": 44,
     "metadata": {},
     "output_type": "execute_result"
    }
   ],
   "source": [
    "booted_data_median[\"p_value\"]"
   ]
  },
  {
   "cell_type": "code",
   "execution_count": 45,
   "id": "55bb358c",
   "metadata": {},
   "outputs": [
    {
     "data": {
      "text/html": [
       "<div>\n",
       "<style scoped>\n",
       "    .dataframe tbody tr th:only-of-type {\n",
       "        vertical-align: middle;\n",
       "    }\n",
       "\n",
       "    .dataframe tbody tr th {\n",
       "        vertical-align: top;\n",
       "    }\n",
       "\n",
       "    .dataframe thead th {\n",
       "        text-align: right;\n",
       "    }\n",
       "</style>\n",
       "<table border=\"1\" class=\"dataframe\">\n",
       "  <thead>\n",
       "    <tr style=\"text-align: right;\">\n",
       "      <th></th>\n",
       "      <th>0</th>\n",
       "    </tr>\n",
       "  </thead>\n",
       "  <tbody>\n",
       "    <tr>\n",
       "      <th>0.025</th>\n",
       "      <td>-570.0</td>\n",
       "    </tr>\n",
       "    <tr>\n",
       "      <th>0.975</th>\n",
       "      <td>-200.0</td>\n",
       "    </tr>\n",
       "  </tbody>\n",
       "</table>\n",
       "</div>"
      ],
      "text/plain": [
       "           0\n",
       "0.025 -570.0\n",
       "0.975 -200.0"
      ]
     },
     "execution_count": 45,
     "metadata": {},
     "output_type": "execute_result"
    }
   ],
   "source": [
    "booted_data_median[\"ci\"]"
   ]
  },
  {
   "cell_type": "markdown",
   "id": "f8391961",
   "metadata": {},
   "source": [
    "Т.к. медианы также значимо отличаются, предполагаем, что на различия средних чеков не повлияли выбросы в данных"
   ]
  },
  {
   "cell_type": "markdown",
   "id": "6a5811da",
   "metadata": {},
   "source": [
    "## Вывод:\n",
    "#### Учитывая, что конверсия, как более приоритетная метрика, изменилась незначимо, а средний чек, увеличился, необходимо более детально рассмотреть новый механизм оплаты, мог ли он повлиять только на средний чек. Если нет, то, возможно, произошло пересечение с другим экспериментом, поэтому применять изменения на всех пользователях не стоит"
   ]
  },
  {
   "cell_type": "markdown",
   "id": "ae16b946",
   "metadata": {},
   "source": [
    "---"
   ]
  },
  {
   "cell_type": "markdown",
   "id": "f0d832b2",
   "metadata": {},
   "source": [
    "### 2 Задача\n",
    "\n",
    "1. Реализуйте функцию, которая будет автоматически подгружать информацию из дополнительного файла groups_add.csv (заголовки могут отличаться) и на основании дополнительных параметров пересчитывать метрики.\n",
    "2. Реализуйте функцию, которая будет строить графики по получаемым метрикам."
   ]
  },
  {
   "cell_type": "markdown",
   "id": "d9cdd386",
   "metadata": {},
   "source": [
    "Предположим, у нас есть информация по зарегистрированным студентам (параметр **st_csv**), по покупкам (параметр **checks_csv**) и дополнительный файл по зарегистрированным студентам, который необходимо подгрузить (параметр **st_add_csv**). Также логично было бы предположить, что существует дополнительный файл и по покупкам (параметр - **checks_add_csv**). В **last_m_csv** хранятся ранее рассчитанные метрики"
   ]
  },
  {
   "cell_type": "code",
   "execution_count": 46,
   "id": "0f340d06",
   "metadata": {},
   "outputs": [],
   "source": [
    "def add_file(st_csv, st_add_csv, checks_csv, checks_add_csv, last_m_csv):\n",
    "    # считаем все необходимые файлы\n",
    "    st = pd.read_csv(st_csv, sep=';')\n",
    "    st_add = pd.read_csv(st_add_csv, sep=';')\n",
    "    checks = pd.read_csv(checks_csv, sep=';')\n",
    "    checks_add = pd.read_csv(checks_add_csv, sep=';')\n",
    "    # добавим новые данные (будем считать, что файлы обновляемые)\n",
    "    st_all = st.append(st_add)\n",
    "    checks_all = checks.append(checks_add)\n",
    "    # рассчитаем конверсию и средний чек\n",
    "    cnv_ = checks.student_id.nunique() / st_all.id.count()\n",
    "    avg_check = checks_all.rev.mean()\n",
    "    date_ = date.today()\n",
    "    # Запишем получившиеся метрики в новый датасет\n",
    "    last_m_new = pd.DataFrame({'cnv': [cnv_], 'avg': [avg_check], 'date': [date_]})\n",
    "    # Если файл с метриками уже был, то обавляем к нему новые данные\n",
    "    if last_m_csv != '':\n",
    "        last_m = pd.read_csv(last_m_csv, sep=';', parse_dates=['date'])\n",
    "        last_m = last_m.append(last_m_new)\n",
    "        last_m.to_csv(last_m_csv)\n",
    "    else:\n",
    "        last_m = last_m_new \n",
    "    # записываем метрики в файл\n",
    "    last_m.to_csv('last_m.csv', sep=';')\n",
    "    print(f'Вновь рассчитанная конверсия равна: {cnv_}')\n",
    "    print(f'Вновь рассчитанный средний чек составляет: {avg_check}')"
   ]
  },
  {
   "cell_type": "markdown",
   "id": "855bff8a",
   "metadata": {},
   "source": [
    "Проверим работу функции на тестовых данных"
   ]
  },
  {
   "cell_type": "code",
   "execution_count": 47,
   "id": "cb6e1b03",
   "metadata": {},
   "outputs": [],
   "source": [
    "st_csv = 'https://getfile.dokpub.com/yandex/get/https://disk.yandex.ru/d/ptazHvJJLTvlKg'\n",
    "checks_csv = 'https://getfile.dokpub.com/yandex/get/https://disk.yandex.ru/d/XxzRVp8_-NyUcw'\n",
    "st_add_csv = 'https://getfile.dokpub.com/yandex/get/https://disk.yandex.ru/d/EIB_bq6m4EIA_g'\n",
    "checks_add_csv = 'https://getfile.dokpub.com/yandex/get/https://disk.yandex.ru/d/N_wew7aGuTt03g'\n",
    "last_m_csv = 'https://getfile.dokpub.com/yandex/get/https://disk.yandex.ru/d/P41EXIq_nbqmFA'"
   ]
  },
  {
   "cell_type": "code",
   "execution_count": 48,
   "id": "efde4216",
   "metadata": {},
   "outputs": [
    {
     "name": "stdout",
     "output_type": "stream",
     "text": [
      "Вновь рассчитанная конверсия равна: 0.00725434456125295\n",
      "Вновь рассчитанный средний чек составляет: 1062.8908207972272\n"
     ]
    }
   ],
   "source": [
    "add_file(st_csv, st_add_csv, checks_csv, checks_add_csv, last_m_csv)"
   ]
  },
  {
   "cell_type": "markdown",
   "id": "186801ef",
   "metadata": {},
   "source": [
    "Теперь напишем функци, которая будет строить графики на основании накопленных данных"
   ]
  },
  {
   "cell_type": "code",
   "execution_count": 49,
   "id": "d8e52962",
   "metadata": {},
   "outputs": [],
   "source": [
    "def new_charts(last_m_csv):\n",
    "    last_cnv = pd.read_csv(last_m_csv, sep=';', parse_dates=['date']).drop(columns='avg')\n",
    "    last_avg = pd.read_csv(last_m_csv, sep=';', parse_dates=['date']).drop(columns='cnv')\n",
    "    plt.figure(figsize=(10, 7))\n",
    "    sns.lineplot(x='date', y='cnv', data=last_cnv, color='blue')\n",
    "    plt.show()\n",
    "    plt.figure(figsize=(10, 7))\n",
    "    sns.lineplot(x='date', y='avg', data=last_avg, color='orange')\n",
    "    plt.show()"
   ]
  },
  {
   "cell_type": "code",
   "execution_count": 50,
   "id": "1a8871de",
   "metadata": {},
   "outputs": [
    {
     "data": {
      "image/png": "[encoded data removed]",
      "text/plain": [
       "<Figure size 720x504 with 1 Axes>"
      ]
     },
     "metadata": {},
     "output_type": "display_data"
    },
    {
     "data": {
      "image/png": "[encoded data removed]",
      "text/plain": [
       "<Figure size 720x504 with 1 Axes>"
      ]
     },
     "metadata": {},
     "output_type": "display_data"
    }
   ],
   "source": [
    "new_charts(last_m_csv)"
   ]
  },
  {
   "cell_type": "code",
   "execution_count": null,
   "id": "a66580d4",
   "metadata": {},
   "outputs": [],
   "source": []
  }
 ],
 "metadata": {
  "kernelspec": {
   "display_name": "Python 3",
   "language": "python",
   "name": "python3"
  },
  "language_info": {
   "codemirror_mode": {
    "name": "ipython",
    "version": 3
   },
   "file_extension": ".py",
   "mimetype": "text/x-python",
   "name": "python",
   "nbconvert_exporter": "python",
   "pygments_lexer": "ipython3",
   "version": "3.8.8"
  }
 },
 "nbformat": 4,
 "nbformat_minor": 5
}
